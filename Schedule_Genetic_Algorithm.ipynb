{
 "nbformat": 4,
 "nbformat_minor": 2,
 "metadata": {
  "language_info": {
   "name": "python",
   "codemirror_mode": {
    "name": "ipython",
    "version": 3
   },
   "version": "3.6.7-final"
  },
  "orig_nbformat": 2,
  "file_extension": ".py",
  "mimetype": "text/x-python",
  "name": "python",
  "npconvert_exporter": "python",
  "pygments_lexer": "ipython3",
  "version": 3,
  "kernelspec": {
   "name": "python36764bitc10ffc88c36c424da8a24c8a584f0d59",
   "display_name": "Python 3.6.7 64-bit"
  }
 },
 "cells": [
  {
   "cell_type": "code",
   "execution_count": 1,
   "metadata": {},
   "outputs": [],
   "source": [
    "\"\"\" Defined function for static initial data for Production Planning \"\"\"\n",
    "\n",
    "#importing libraries\n",
    "import pandas as pd\n",
    "import openpyxl as xl\n",
    "import json\n",
    "\n",
    "def data_excel_json(excel_sheet):\n",
    "    \"\"\" convert excel into json \"\"\"\n",
    "    data_excel = xl.load_workbook(excel_sheet)\n",
    "    data = {}\n",
    "    sheet_name = data_excel.sheetnames\n",
    "    for sheet in sheet_name:\n",
    "        wb_sheet = data_excel[sheet]\n",
    "        cell_values = wb_sheet.values\n",
    "        df =  pd.DataFrame(cell_values, columns=next(cell_values))\n",
    "        df.iloc[:, 0] = df.iloc[:, 0].apply(lambda x : x.strip())\n",
    "        df.index = df.iloc[:, 0]\n",
    "        df.drop(columns = df.columns[0], inplace=True)\n",
    "        data[sheet] = df.T.to_dict()\n",
    "    return data\n",
    "\n",
    "def json_to_df(json_data):\n",
    "    \"\"\" convert json into excel \"\"\"\n",
    "    dict_data = {}\n",
    "    for key in json_data.keys():\n",
    "        dict_data[key] = pd.DataFrame(json_data.get(key)).T\n",
    "    return dict_data\n"
   ]
  },
  {
   "cell_type": "code",
   "execution_count": 2,
   "metadata": {},
   "outputs": [],
   "source": [
    "''' Solving job shop scheduling problem by gentic algorithm '''\n",
    "\n",
    "# importing required modules\n",
    "import pandas as pd\n",
    "import numpy as np\n",
    "import matplotlib.pyplot as plt\n",
    "import pandas as pd\n",
    "import chart_studio.plotly as py\n",
    "import plotly.figure_factory as ff\n",
    "import datetime\n",
    "import time\n",
    "import copy\n",
    "\n",
    "\n",
    "def json_to_df(json_data):\n",
    "    \"\"\" convert json into excel \"\"\"\n",
    "    dict_data = {}\n",
    "    for key in json_data.keys():\n",
    "        dict_data[key] = pd.DataFrame(json_data.get(key)).T\n",
    "\n",
    "    return dict_data\n",
    "\n",
    "\n",
    "\n",
    "def generate_initial_population(population_size, num_gene):\n",
    "\n",
    "    \"\"\" generate initial population for Genetic Algorithm \"\"\"\n",
    "\n",
    "    best_list, best_obj = [], []\n",
    "    population_list = []\n",
    "    makespan_record = []\n",
    "    for i in range(population_size):\n",
    "        nxm_random_num = list(np.random.permutation(num_gene)) # generate a random permutation of 0 to num_job*num_mc-1\n",
    "        population_list.append(nxm_random_num) # add to the population_list\n",
    "        for j in range(num_gene):\n",
    "            population_list[i][j] = population_list[i][j] % num_job # convert to job number format, every job appears m times\n",
    "\n",
    "    return population_list\n",
    "\n",
    "\n",
    "\n",
    "def job_schedule(data_dict, population_size = 30, crossover_rate = 0.8, mutation_rate = 0.2, mutation_selection_rate = 0.2, num_iteration = 2000):\n",
    "\n",
    "    \"\"\" initialize genetic algorithm parameters and read data \"\"\"\n",
    "    data_json  = json_to_df(data_dict)\n",
    "    machine_sequence_tmp = data_json['Machines Sequence']\n",
    "    process_time_tmp = data_json['Processing Time']\n",
    "\n",
    "    df_shape = process_time_tmp.shape\n",
    "    num_machines = df_shape[1] # number of machines\n",
    "    num_job = df_shape[0] # number of jobs\n",
    "    num_gene = num_machines * num_job # number of genes in a chromosome\n",
    "    num_mutation_jobs = round(num_gene * mutation_selection_rate)\n",
    "\n",
    "    process_time = [list(map(int, process_time_tmp.iloc[i])) for i in range(num_job)]\n",
    "    machine_sequence = [list(map(int, machine_sequence_tmp.iloc[i])) for i in range(num_job)]\n",
    "    \n",
    "    #start_time = time.time()\n",
    "\n",
    "    Tbest = 999999999999999\n",
    "\n",
    "    best_list, best_obj = [], []\n",
    "    population_list = []\n",
    "    makespan_record = []\n",
    "\n",
    "    for i in range(population_size):\n",
    "        nxm_random_num = list(np.random.permutation(num_gene)) # generate a random permutation of 0 to num_job*num_mc-1\n",
    "        population_list.append(nxm_random_num) # add to the population_list\n",
    "        for j in range(num_gene):\n",
    "            population_list[i][j] = population_list[i][j] % num_job # convert to job number format, every job appears m times\n",
    "    #population_list = generate_initial_population(population_size=population_size, num_gene=num_gene)\n",
    "\n",
    "    for iteration in range(num_iteration):\n",
    "        Tbest_now = 99999999999\n",
    "\n",
    "        \"\"\" Two Point Cross-Over \"\"\"\n",
    "        parent_list = copy.deepcopy(population_list)\n",
    "        offspring_list = copy.deepcopy(population_list) # generate a random sequence to select the parent chromosome to crossover\n",
    "        pop_random_size = list(np.random.permutation(population_size))\n",
    "\n",
    "        for size in range(int(population_size/2)):\n",
    "            crossover_prob = np.random.rand()\n",
    "            if crossover_rate >= crossover_prob:\n",
    "                parent_1 = population_list[pop_random_size[2*size]][:]\n",
    "                parent_2 = population_list[pop_random_size[2*size+1]][:]\n",
    "\n",
    "                child_1 = parent_1[:]\n",
    "                child_2 = parent_2[:]\n",
    "                cutpoint = list(np.random.choice(num_gene, 2, replace=False))\n",
    "                cutpoint.sort()\n",
    "\n",
    "                child_1[cutpoint[0]:cutpoint[1]] = parent_2[cutpoint[0]:cutpoint[1]]\n",
    "                child_2[cutpoint[0]:cutpoint[1]] = parent_1[cutpoint[0]:cutpoint[1]]\n",
    "                offspring_list[pop_random_size[2*size]] = child_1[:]\n",
    "                offspring_list[pop_random_size[2*size+1]] = child_2[:]\n",
    "\n",
    "\n",
    "        for pop in range(population_size):\n",
    "\n",
    "            \"\"\" Repairment \"\"\"\n",
    "            job_count = {}\n",
    "            larger, less = [], [] # 'larger' record jobs appear in the chromosome more than pop times, and 'less' records less than pop times.\n",
    "            for job in range(num_job):\n",
    "                if job in offspring_list[pop]:\n",
    "                    count = offspring_list[pop].count(job)\n",
    "                    pos = offspring_list[pop].index(job)\n",
    "                    job_count[job] = [count, pos] # store the above two values to the job_count dictionary\n",
    "                else:\n",
    "                    count = 0\n",
    "                    job_count[job] = [count, 0]\n",
    "\n",
    "                if count > num_machines:\n",
    "                    larger.append(job)\n",
    "                elif count < num_machines:\n",
    "                    less.append(job)\n",
    "                    \n",
    "            for large in range(len(larger)):\n",
    "                change_job = larger[large]\n",
    "                while job_count[change_job][0] > num_machines:\n",
    "                    for les in range(len(less)):\n",
    "                        if job_count[less[les]][0] < num_machines:                    \n",
    "                            offspring_list[pop][job_count[change_job][1]] = less[les]\n",
    "                            job_count[change_job][1] = offspring_list[pop].index(change_job)\n",
    "                            job_count[change_job][0] = job_count[change_job][0]-1\n",
    "                            job_count[less[les]][0] = job_count[less[les]][0]+1                    \n",
    "                        if job_count[change_job][0] == num_machines:\n",
    "                            break     \n",
    "    \n",
    "\n",
    "        \n",
    "        for off_spring in range(len(offspring_list)):\n",
    "\n",
    "            \"\"\" Mutations \"\"\"\n",
    "            mutation_prob = np.random.rand()\n",
    "            if mutation_rate >= mutation_prob:\n",
    "                m_change = list(np.random.choice(num_gene, num_mutation_jobs, replace=False)) # chooses the position to mutation\n",
    "                t_value_last = offspring_list[off_spring][m_change[0]] # save the value which is on the first mutation position\n",
    "                for i in range(num_mutation_jobs-1):\n",
    "                    offspring_list[off_spring][m_change[i]] = offspring_list[off_spring][m_change[i+1]] # displacement\n",
    "                # move the value of the first mutation position to the last mutation position\n",
    "                offspring_list[off_spring][m_change[num_mutation_jobs-1]] = t_value_last \n",
    "\n",
    "\n",
    "\n",
    "        \"\"\" fitness value (calculate makespan) \"\"\"\n",
    "        total_chromosome = copy.deepcopy(parent_list) + copy.deepcopy(offspring_list) # parent and offspring chromosomes combination\n",
    "        chrom_fitness, chrom_fit = [], []\n",
    "        total_fitness = 0\n",
    "        for pop_size in range(population_size*2):\n",
    "            j_keys = [j for j in range(num_job)]\n",
    "            key_count = {key:0 for key in j_keys}\n",
    "            j_count = {key:0 for key in j_keys}\n",
    "            m_keys = [j+1 for j in range(num_machines)]\n",
    "            m_count = {key:0 for key in m_keys}\n",
    "            \n",
    "            for i in total_chromosome[pop_size]:\n",
    "                gen_t = int(process_time[i][key_count[i]])\n",
    "                gen_m = int(machine_sequence[i][key_count[i]])\n",
    "                j_count[i] = j_count[i] + gen_t\n",
    "                m_count[gen_m] = m_count[gen_m] + gen_t\n",
    "                \n",
    "                if m_count[gen_m] < j_count[i]:\n",
    "                    m_count[gen_m] = j_count[i]\n",
    "                elif m_count[gen_m] > j_count[i]:\n",
    "                    j_count[i] = m_count[gen_m]\n",
    "                \n",
    "                key_count[i] = key_count[i] + 1\n",
    "        \n",
    "            makespan = max(j_count.values())\n",
    "            chrom_fitness.append(1/makespan)\n",
    "            chrom_fit.append(makespan)\n",
    "            total_fitness = total_fitness + chrom_fitness[pop_size]\n",
    "        \n",
    "\n",
    "        \"\"\" Selection (roulette wheel approach) \"\"\"\n",
    "        pk, qk = [], []\n",
    "        \n",
    "        for size in range(population_size * 2):\n",
    "            pk.append(chrom_fitness[size] / total_fitness)\n",
    "        for size in range(population_size * 2):\n",
    "            cumulative = 0\n",
    "\n",
    "            for j in range(0, size+1):\n",
    "                cumulative = cumulative + pk[j]\n",
    "            qk.append(cumulative)\n",
    "        \n",
    "        selection_rand = [np.random.rand() for i in range(population_size)]\n",
    "        \n",
    "        for pop_size in range(population_size):\n",
    "            if selection_rand[pop_size] <= qk[0]:\n",
    "                population_list[pop_size] = copy.deepcopy(total_chromosome[0])\n",
    "            else:\n",
    "                for j in range(0, population_size * 2-1):\n",
    "                    if selection_rand[pop_size] > qk[j] and selection_rand[pop_size] <= qk[j+1]:\n",
    "                        population_list[pop_size] = copy.deepcopy(total_chromosome[j+1])\n",
    "                        break\n",
    "\n",
    "\n",
    "        \"\"\" comparison \"\"\"\n",
    "        for pop_size in range(population_size * 2):\n",
    "            if chrom_fit[pop_size] < Tbest_now:\n",
    "                Tbest_now = chrom_fit[pop_size]\n",
    "                sequence_now = copy.deepcopy(total_chromosome[pop_size])\n",
    "        if Tbest_now <= Tbest:\n",
    "            Tbest = Tbest_now\n",
    "            sequence_best = copy.deepcopy(sequence_now)\n",
    "            \n",
    "        makespan_record.append(Tbest)\n",
    "\n",
    "    \"\"\" Results - Makespan \"\"\"\n",
    "\n",
    "    print(\"optimal sequence\", sequence_best)\n",
    "    print(\"optimal value:%f\"%Tbest)\n",
    "    print(\"\\n\")\n",
    "    #print('the elapsed time:%s'% (time.time() - start_time))\n",
    "\n",
    "    #%matplotlib inline\n",
    "    plt.plot([i for i in range(len(makespan_record))],makespan_record,'b')\n",
    "    plt.ylabel('makespan', fontsize=15)\n",
    "    plt.xlabel('generation', fontsize=15)\n",
    "    plt.show()\n",
    "\n",
    "\n",
    "    \"\"\" plot gantt chart \"\"\"\n",
    "\n",
    "    m_keys = [j+1 for j in range(num_machines)]\n",
    "    j_keys = [j for j in range(num_job)]\n",
    "    key_count = {key:0 for key in j_keys}\n",
    "    j_count = {key:0 for key in j_keys}\n",
    "    m_count = {key:0 for key in m_keys}\n",
    "    j_record = {}\n",
    "    for i in sequence_best:\n",
    "        gen_t = int(process_time[i][key_count[i]])\n",
    "        gen_m = int(machine_sequence[i][key_count[i]])\n",
    "        j_count[i] = j_count[i] + gen_t\n",
    "        m_count[gen_m] = m_count[gen_m] + gen_t\n",
    "\n",
    "        if m_count[gen_m] < j_count[i]:\n",
    "            m_count[gen_m] = j_count[i]\n",
    "        elif m_count[gen_m] > j_count[i]:\n",
    "            j_count[i] = m_count[gen_m]\n",
    "\n",
    "        start_time = str(datetime.timedelta(seconds = j_count[i] - process_time[i][key_count[i]])) # convert seconds to hours, minutes and seconds\n",
    "        end_time = str(datetime.timedelta(seconds = j_count[i]))\n",
    "\n",
    "        j_record[(i, gen_m)] = [start_time, end_time]\n",
    "\n",
    "        key_count[i] = key_count[i] + 1\n",
    "\n",
    "\n",
    "    df = []\n",
    "    for m in m_keys:\n",
    "        for j in j_keys:\n",
    "            df.append(dict(Task='Machine %s'%(m), Start='2020-02-01 %s'%(str(j_record[(j,m)][0])), \\\n",
    "                            Finish='2020-02-01 %s'%(str(j_record[(j,m)][1])),Resource='Job %s'%(j+1)))\n",
    "    \n",
    "    df_ = pd.DataFrame(df)\n",
    "    df_.Start = pd.to_datetime(df_['Start'])\n",
    "    df_.Finish = pd.to_datetime(df_['Finish'])\n",
    "    start = df_.Start.min()\n",
    "    end = df_.Finish.max()\n",
    "\n",
    "    df_.Start = df_.Start.apply(lambda x: x.strftime('%Y-%m-%dT%H:%M:%S'))\n",
    "    df_.Finish = df_.Finish.apply(lambda x: x.strftime('%Y-%m-%dT%H:%M:%S'))\n",
    "    data = df_.to_dict('record')\n",
    "\n",
    "    final_data ={\n",
    "        'start':start.strftime('%Y-%m-%dT%H:%M:%S'),\n",
    "        'end':end.strftime('%Y-%m-%dT%H:%M:%S'),\n",
    "        'data':data}\n",
    "        \n",
    "    fig = ff.create_gantt(df, index_col='Resource', show_colorbar=True, group_tasks=True, showgrid_x=True, title='Job shop Schedule')\n",
    "    fig.show()\n",
    "    #iplot(fig, filename='GA_job_shop_scheduling')\n",
    "    return final_data\n"
   ]
  },
  {
   "cell_type": "code",
   "execution_count": 4,
   "metadata": {},
   "outputs": [
    {
     "name": "stdout",
     "output_type": "stream",
     "text": "optimal sequence [7, 4, 4, 5, 3, 5, 1, 5, 8, 6, 8, 1, 3, 5, 7, 8, 3, 1, 3, 9, 5, 9, 4, 6, 8, 2, 5, 7, 1, 2, 3, 6, 2, 7, 9, 8, 8, 5, 9, 9, 0, 8, 8, 3, 6, 1, 2, 2, 4, 5, 8, 2, 6, 3, 6, 7, 1, 1, 5, 1, 6, 7, 2, 4, 5, 9, 4, 0, 1, 8, 0, 7, 0, 2, 1, 7, 0, 3, 4, 3, 0, 4, 0, 9, 9, 0, 2, 6, 6, 9, 7, 2, 4, 0, 3, 7, 9, 0, 6, 4]\noptimal value:1182.000000\n\n\n"
    },
    {
     "data": {
      "image/png": "[encoded data removed]",
      "image/svg+xml": "<?xml version=\"1.0\" encoding=\"utf-8\" standalone=\"no\"?>\r\n<!DOCTYPE svg PUBLIC \"-//W3C//DTD SVG 1.1//EN\"\r\n  \"http://www.w3.org/Graphics/SVG/1.1/DTD/svg11.dtd\">\r\n<!-- Created with matplotlib (https://matplotlib.org/) -->\r\n<svg height=\"267.035313pt\" version=\"1.1\" viewBox=\"0 0 400.167187 267.035313\" width=\"400.167187pt\" xmlns=\"http://www.w3.org/2000/svg\" xmlns:xlink=\"http://www.w3.org/1999/xlink\">\r\n <defs>\r\n  <style type=\"text/css\">\r\n*{stroke-linecap:butt;stroke-linejoin:round;}\r\n  </style>\r\n </defs>\r\n <g id=\"figure_1\">\r\n  <g id=\"patch_1\">\r\n   <path d=\"M 0 267.035313 \r\nL 400.167187 267.035313 \r\nL 400.167187 0 \r\nL 0 0 \r\nz\r\n\" style=\"fill:none;\"/>\r\n  </g>\r\n  <g id=\"axes_1\">\r\n   <g id=\"patch_2\">\r\n    <path d=\"M 58.167188 224.64 \r\nL 392.967188 224.64 \r\nL 392.967188 7.2 \r\nL 58.167188 7.2 \r\nz\r\n\" style=\"fill:#ffffff;\"/>\r\n   </g>\r\n   <g id=\"matplotlib.axis_1\">\r\n    <g id=\"xtick_1\">\r\n     <g id=\"line2d_1\">\r\n      <defs>\r\n       <path d=\"M 0 0 \r\nL 0 3.5 \r\n\" id=\"m423ba74413\" style=\"stroke:#000000;stroke-width:0.8;\"/>\r\n      </defs>\r\n      <g>\r\n       <use style=\"stroke:#000000;stroke-width:0.8;\" x=\"73.385369\" xlink:href=\"#m423ba74413\" y=\"224.64\"/>\r\n      </g>\r\n     </g>\r\n     <g id=\"text_1\">\r\n      <!-- 0 -->\r\n      <defs>\r\n       <path d=\"M 31.78125 66.40625 \r\nQ 24.171875 66.40625 20.328125 58.90625 \r\nQ 16.5 51.421875 16.5 36.375 \r\nQ 16.5 21.390625 20.328125 13.890625 \r\nQ 24.171875 6.390625 31.78125 6.390625 \r\nQ 39.453125 6.390625 43.28125 13.890625 \r\nQ 47.125 21.390625 47.125 36.375 \r\nQ 47.125 51.421875 43.28125 58.90625 \r\nQ 39.453125 66.40625 31.78125 66.40625 \r\nz\r\nM 31.78125 74.21875 \r\nQ 44.046875 74.21875 50.515625 64.515625 \r\nQ 56.984375 54.828125 56.984375 36.375 \r\nQ 56.984375 17.96875 50.515625 8.265625 \r\nQ 44.046875 -1.421875 31.78125 -1.421875 \r\nQ 19.53125 -1.421875 13.0625 8.265625 \r\nQ 6.59375 17.96875 6.59375 36.375 \r\nQ 6.59375 54.828125 13.0625 64.515625 \r\nQ 19.53125 74.21875 31.78125 74.21875 \r\nz\r\n\" id=\"DejaVuSans-48\"/>\r\n      </defs>\r\n      <g transform=\"translate(70.204119 239.238438)scale(0.1 -0.1)\">\r\n       <use xlink:href=\"#DejaVuSans-48\"/>\r\n      </g>\r\n     </g>\r\n    </g>\r\n    <g id=\"xtick_2\">\r\n     <g id=\"line2d_2\">\r\n      <g>\r\n       <use style=\"stroke:#000000;stroke-width:0.8;\" x=\"111.449856\" xlink:href=\"#m423ba74413\" y=\"224.64\"/>\r\n      </g>\r\n     </g>\r\n     <g id=\"text_2\">\r\n      <!-- 250 -->\r\n      <defs>\r\n       <path d=\"M 19.1875 8.296875 \r\nL 53.609375 8.296875 \r\nL 53.609375 0 \r\nL 7.328125 0 \r\nL 7.328125 8.296875 \r\nQ 12.9375 14.109375 22.625 23.890625 \r\nQ 32.328125 33.6875 34.8125 36.53125 \r\nQ 39.546875 41.84375 41.421875 45.53125 \r\nQ 43.3125 49.21875 43.3125 52.78125 \r\nQ 43.3125 58.59375 39.234375 62.25 \r\nQ 35.15625 65.921875 28.609375 65.921875 \r\nQ 23.96875 65.921875 18.8125 64.3125 \r\nQ 13.671875 62.703125 7.8125 59.421875 \r\nL 7.8125 69.390625 \r\nQ 13.765625 71.78125 18.9375 73 \r\nQ 24.125 74.21875 28.421875 74.21875 \r\nQ 39.75 74.21875 46.484375 68.546875 \r\nQ 53.21875 62.890625 53.21875 53.421875 \r\nQ 53.21875 48.921875 51.53125 44.890625 \r\nQ 49.859375 40.875 45.40625 35.40625 \r\nQ 44.1875 33.984375 37.640625 27.21875 \r\nQ 31.109375 20.453125 19.1875 8.296875 \r\nz\r\n\" id=\"DejaVuSans-50\"/>\r\n       <path d=\"M 10.796875 72.90625 \r\nL 49.515625 72.90625 \r\nL 49.515625 64.59375 \r\nL 19.828125 64.59375 \r\nL 19.828125 46.734375 \r\nQ 21.96875 47.46875 24.109375 47.828125 \r\nQ 26.265625 48.1875 28.421875 48.1875 \r\nQ 40.625 48.1875 47.75 41.5 \r\nQ 54.890625 34.8125 54.890625 23.390625 \r\nQ 54.890625 11.625 47.5625 5.09375 \r\nQ 40.234375 -1.421875 26.90625 -1.421875 \r\nQ 22.3125 -1.421875 17.546875 -0.640625 \r\nQ 12.796875 0.140625 7.71875 1.703125 \r\nL 7.71875 11.625 \r\nQ 12.109375 9.234375 16.796875 8.0625 \r\nQ 21.484375 6.890625 26.703125 6.890625 \r\nQ 35.15625 6.890625 40.078125 11.328125 \r\nQ 45.015625 15.765625 45.015625 23.390625 \r\nQ 45.015625 31 40.078125 35.4375 \r\nQ 35.15625 39.890625 26.703125 39.890625 \r\nQ 22.75 39.890625 18.8125 39.015625 \r\nQ 14.890625 38.140625 10.796875 36.28125 \r\nz\r\n\" id=\"DejaVuSans-53\"/>\r\n      </defs>\r\n      <g transform=\"translate(101.906106 239.238438)scale(0.1 -0.1)\">\r\n       <use xlink:href=\"#DejaVuSans-50\"/>\r\n       <use x=\"63.623047\" xlink:href=\"#DejaVuSans-53\"/>\r\n       <use x=\"127.246094\" xlink:href=\"#DejaVuSans-48\"/>\r\n      </g>\r\n     </g>\r\n    </g>\r\n    <g id=\"xtick_3\">\r\n     <g id=\"line2d_3\">\r\n      <g>\r\n       <use style=\"stroke:#000000;stroke-width:0.8;\" x=\"149.514343\" xlink:href=\"#m423ba74413\" y=\"224.64\"/>\r\n      </g>\r\n     </g>\r\n     <g id=\"text_3\">\r\n      <!-- 500 -->\r\n      <g transform=\"translate(139.970593 239.238438)scale(0.1 -0.1)\">\r\n       <use xlink:href=\"#DejaVuSans-53\"/>\r\n       <use x=\"63.623047\" xlink:href=\"#DejaVuSans-48\"/>\r\n       <use x=\"127.246094\" xlink:href=\"#DejaVuSans-48\"/>\r\n      </g>\r\n     </g>\r\n    </g>\r\n    <g id=\"xtick_4\">\r\n     <g id=\"line2d_4\">\r\n      <g>\r\n       <use style=\"stroke:#000000;stroke-width:0.8;\" x=\"187.57883\" xlink:href=\"#m423ba74413\" y=\"224.64\"/>\r\n      </g>\r\n     </g>\r\n     <g id=\"text_4\">\r\n      <!-- 750 -->\r\n      <defs>\r\n       <path d=\"M 8.203125 72.90625 \r\nL 55.078125 72.90625 \r\nL 55.078125 68.703125 \r\nL 28.609375 0 \r\nL 18.3125 0 \r\nL 43.21875 64.59375 \r\nL 8.203125 64.59375 \r\nz\r\n\" id=\"DejaVuSans-55\"/>\r\n      </defs>\r\n      <g transform=\"translate(178.03508 239.238438)scale(0.1 -0.1)\">\r\n       <use xlink:href=\"#DejaVuSans-55\"/>\r\n       <use x=\"63.623047\" xlink:href=\"#DejaVuSans-53\"/>\r\n       <use x=\"127.246094\" xlink:href=\"#DejaVuSans-48\"/>\r\n      </g>\r\n     </g>\r\n    </g>\r\n    <g id=\"xtick_5\">\r\n     <g id=\"line2d_5\">\r\n      <g>\r\n       <use style=\"stroke:#000000;stroke-width:0.8;\" x=\"225.643316\" xlink:href=\"#m423ba74413\" y=\"224.64\"/>\r\n      </g>\r\n     </g>\r\n     <g id=\"text_5\">\r\n      <!-- 1000 -->\r\n      <defs>\r\n       <path d=\"M 12.40625 8.296875 \r\nL 28.515625 8.296875 \r\nL 28.515625 63.921875 \r\nL 10.984375 60.40625 \r\nL 10.984375 69.390625 \r\nL 28.421875 72.90625 \r\nL 38.28125 72.90625 \r\nL 38.28125 8.296875 \r\nL 54.390625 8.296875 \r\nL 54.390625 0 \r\nL 12.40625 0 \r\nz\r\n\" id=\"DejaVuSans-49\"/>\r\n      </defs>\r\n      <g transform=\"translate(212.918316 239.238438)scale(0.1 -0.1)\">\r\n       <use xlink:href=\"#DejaVuSans-49\"/>\r\n       <use x=\"63.623047\" xlink:href=\"#DejaVuSans-48\"/>\r\n       <use x=\"127.246094\" xlink:href=\"#DejaVuSans-48\"/>\r\n       <use x=\"190.869141\" xlink:href=\"#DejaVuSans-48\"/>\r\n      </g>\r\n     </g>\r\n    </g>\r\n    <g id=\"xtick_6\">\r\n     <g id=\"line2d_6\">\r\n      <g>\r\n       <use style=\"stroke:#000000;stroke-width:0.8;\" x=\"263.707803\" xlink:href=\"#m423ba74413\" y=\"224.64\"/>\r\n      </g>\r\n     </g>\r\n     <g id=\"text_6\">\r\n      <!-- 1250 -->\r\n      <g transform=\"translate(250.982803 239.238438)scale(0.1 -0.1)\">\r\n       <use xlink:href=\"#DejaVuSans-49\"/>\r\n       <use x=\"63.623047\" xlink:href=\"#DejaVuSans-50\"/>\r\n       <use x=\"127.246094\" xlink:href=\"#DejaVuSans-53\"/>\r\n       <use x=\"190.869141\" xlink:href=\"#DejaVuSans-48\"/>\r\n      </g>\r\n     </g>\r\n    </g>\r\n    <g id=\"xtick_7\">\r\n     <g id=\"line2d_7\">\r\n      <g>\r\n       <use style=\"stroke:#000000;stroke-width:0.8;\" x=\"301.77229\" xlink:href=\"#m423ba74413\" y=\"224.64\"/>\r\n      </g>\r\n     </g>\r\n     <g id=\"text_7\">\r\n      <!-- 1500 -->\r\n      <g transform=\"translate(289.04729 239.238438)scale(0.1 -0.1)\">\r\n       <use xlink:href=\"#DejaVuSans-49\"/>\r\n       <use x=\"63.623047\" xlink:href=\"#DejaVuSans-53\"/>\r\n       <use x=\"127.246094\" xlink:href=\"#DejaVuSans-48\"/>\r\n       <use x=\"190.869141\" xlink:href=\"#DejaVuSans-48\"/>\r\n      </g>\r\n     </g>\r\n    </g>\r\n    <g id=\"xtick_8\">\r\n     <g id=\"line2d_8\">\r\n      <g>\r\n       <use style=\"stroke:#000000;stroke-width:0.8;\" x=\"339.836777\" xlink:href=\"#m423ba74413\" y=\"224.64\"/>\r\n      </g>\r\n     </g>\r\n     <g id=\"text_8\">\r\n      <!-- 1750 -->\r\n      <g transform=\"translate(327.111777 239.238438)scale(0.1 -0.1)\">\r\n       <use xlink:href=\"#DejaVuSans-49\"/>\r\n       <use x=\"63.623047\" xlink:href=\"#DejaVuSans-55\"/>\r\n       <use x=\"127.246094\" xlink:href=\"#DejaVuSans-53\"/>\r\n       <use x=\"190.869141\" xlink:href=\"#DejaVuSans-48\"/>\r\n      </g>\r\n     </g>\r\n    </g>\r\n    <g id=\"xtick_9\">\r\n     <g id=\"line2d_9\">\r\n      <g>\r\n       <use style=\"stroke:#000000;stroke-width:0.8;\" x=\"377.901264\" xlink:href=\"#m423ba74413\" y=\"224.64\"/>\r\n      </g>\r\n     </g>\r\n     <g id=\"text_9\">\r\n      <!-- 2000 -->\r\n      <g transform=\"translate(365.176264 239.238438)scale(0.1 -0.1)\">\r\n       <use xlink:href=\"#DejaVuSans-50\"/>\r\n       <use x=\"63.623047\" xlink:href=\"#DejaVuSans-48\"/>\r\n       <use x=\"127.246094\" xlink:href=\"#DejaVuSans-48\"/>\r\n       <use x=\"190.869141\" xlink:href=\"#DejaVuSans-48\"/>\r\n      </g>\r\n     </g>\r\n    </g>\r\n    <g id=\"text_10\">\r\n     <!-- generation -->\r\n     <defs>\r\n      <path d=\"M 45.40625 27.984375 \r\nQ 45.40625 37.75 41.375 43.109375 \r\nQ 37.359375 48.484375 30.078125 48.484375 \r\nQ 22.859375 48.484375 18.828125 43.109375 \r\nQ 14.796875 37.75 14.796875 27.984375 \r\nQ 14.796875 18.265625 18.828125 12.890625 \r\nQ 22.859375 7.515625 30.078125 7.515625 \r\nQ 37.359375 7.515625 41.375 12.890625 \r\nQ 45.40625 18.265625 45.40625 27.984375 \r\nz\r\nM 54.390625 6.78125 \r\nQ 54.390625 -7.171875 48.1875 -13.984375 \r\nQ 42 -20.796875 29.203125 -20.796875 \r\nQ 24.46875 -20.796875 20.265625 -20.09375 \r\nQ 16.0625 -19.390625 12.109375 -17.921875 \r\nL 12.109375 -9.1875 \r\nQ 16.0625 -11.328125 19.921875 -12.34375 \r\nQ 23.78125 -13.375 27.78125 -13.375 \r\nQ 36.625 -13.375 41.015625 -8.765625 \r\nQ 45.40625 -4.15625 45.40625 5.171875 \r\nL 45.40625 9.625 \r\nQ 42.625 4.78125 38.28125 2.390625 \r\nQ 33.9375 0 27.875 0 \r\nQ 17.828125 0 11.671875 7.65625 \r\nQ 5.515625 15.328125 5.515625 27.984375 \r\nQ 5.515625 40.671875 11.671875 48.328125 \r\nQ 17.828125 56 27.875 56 \r\nQ 33.9375 56 38.28125 53.609375 \r\nQ 42.625 51.21875 45.40625 46.390625 \r\nL 45.40625 54.6875 \r\nL 54.390625 54.6875 \r\nz\r\n\" id=\"DejaVuSans-103\"/>\r\n      <path d=\"M 56.203125 29.59375 \r\nL 56.203125 25.203125 \r\nL 14.890625 25.203125 \r\nQ 15.484375 15.921875 20.484375 11.0625 \r\nQ 25.484375 6.203125 34.421875 6.203125 \r\nQ 39.59375 6.203125 44.453125 7.46875 \r\nQ 49.3125 8.734375 54.109375 11.28125 \r\nL 54.109375 2.78125 \r\nQ 49.265625 0.734375 44.1875 -0.34375 \r\nQ 39.109375 -1.421875 33.890625 -1.421875 \r\nQ 20.796875 -1.421875 13.15625 6.1875 \r\nQ 5.515625 13.8125 5.515625 26.8125 \r\nQ 5.515625 40.234375 12.765625 48.109375 \r\nQ 20.015625 56 32.328125 56 \r\nQ 43.359375 56 49.78125 48.890625 \r\nQ 56.203125 41.796875 56.203125 29.59375 \r\nz\r\nM 47.21875 32.234375 \r\nQ 47.125 39.59375 43.09375 43.984375 \r\nQ 39.0625 48.390625 32.421875 48.390625 \r\nQ 24.90625 48.390625 20.390625 44.140625 \r\nQ 15.875 39.890625 15.1875 32.171875 \r\nz\r\n\" id=\"DejaVuSans-101\"/>\r\n      <path d=\"M 54.890625 33.015625 \r\nL 54.890625 0 \r\nL 45.90625 0 \r\nL 45.90625 32.71875 \r\nQ 45.90625 40.484375 42.875 44.328125 \r\nQ 39.84375 48.1875 33.796875 48.1875 \r\nQ 26.515625 48.1875 22.3125 43.546875 \r\nQ 18.109375 38.921875 18.109375 30.90625 \r\nL 18.109375 0 \r\nL 9.078125 0 \r\nL 9.078125 54.6875 \r\nL 18.109375 54.6875 \r\nL 18.109375 46.1875 \r\nQ 21.34375 51.125 25.703125 53.5625 \r\nQ 30.078125 56 35.796875 56 \r\nQ 45.21875 56 50.046875 50.171875 \r\nQ 54.890625 44.34375 54.890625 33.015625 \r\nz\r\n\" id=\"DejaVuSans-110\"/>\r\n      <path d=\"M 41.109375 46.296875 \r\nQ 39.59375 47.171875 37.8125 47.578125 \r\nQ 36.03125 48 33.890625 48 \r\nQ 26.265625 48 22.1875 43.046875 \r\nQ 18.109375 38.09375 18.109375 28.8125 \r\nL 18.109375 0 \r\nL 9.078125 0 \r\nL 9.078125 54.6875 \r\nL 18.109375 54.6875 \r\nL 18.109375 46.1875 \r\nQ 20.953125 51.171875 25.484375 53.578125 \r\nQ 30.03125 56 36.53125 56 \r\nQ 37.453125 56 38.578125 55.875 \r\nQ 39.703125 55.765625 41.0625 55.515625 \r\nz\r\n\" id=\"DejaVuSans-114\"/>\r\n      <path d=\"M 34.28125 27.484375 \r\nQ 23.390625 27.484375 19.1875 25 \r\nQ 14.984375 22.515625 14.984375 16.5 \r\nQ 14.984375 11.71875 18.140625 8.90625 \r\nQ 21.296875 6.109375 26.703125 6.109375 \r\nQ 34.1875 6.109375 38.703125 11.40625 \r\nQ 43.21875 16.703125 43.21875 25.484375 \r\nL 43.21875 27.484375 \r\nz\r\nM 52.203125 31.203125 \r\nL 52.203125 0 \r\nL 43.21875 0 \r\nL 43.21875 8.296875 \r\nQ 40.140625 3.328125 35.546875 0.953125 \r\nQ 30.953125 -1.421875 24.3125 -1.421875 \r\nQ 15.921875 -1.421875 10.953125 3.296875 \r\nQ 6 8.015625 6 15.921875 \r\nQ 6 25.140625 12.171875 29.828125 \r\nQ 18.359375 34.515625 30.609375 34.515625 \r\nL 43.21875 34.515625 \r\nL 43.21875 35.40625 \r\nQ 43.21875 41.609375 39.140625 45 \r\nQ 35.0625 48.390625 27.6875 48.390625 \r\nQ 23 48.390625 18.546875 47.265625 \r\nQ 14.109375 46.140625 10.015625 43.890625 \r\nL 10.015625 52.203125 \r\nQ 14.9375 54.109375 19.578125 55.046875 \r\nQ 24.21875 56 28.609375 56 \r\nQ 40.484375 56 46.34375 49.84375 \r\nQ 52.203125 43.703125 52.203125 31.203125 \r\nz\r\n\" id=\"DejaVuSans-97\"/>\r\n      <path d=\"M 18.3125 70.21875 \r\nL 18.3125 54.6875 \r\nL 36.8125 54.6875 \r\nL 36.8125 47.703125 \r\nL 18.3125 47.703125 \r\nL 18.3125 18.015625 \r\nQ 18.3125 11.328125 20.140625 9.421875 \r\nQ 21.96875 7.515625 27.59375 7.515625 \r\nL 36.8125 7.515625 \r\nL 36.8125 0 \r\nL 27.59375 0 \r\nQ 17.1875 0 13.234375 3.875 \r\nQ 9.28125 7.765625 9.28125 18.015625 \r\nL 9.28125 47.703125 \r\nL 2.6875 47.703125 \r\nL 2.6875 54.6875 \r\nL 9.28125 54.6875 \r\nL 9.28125 70.21875 \r\nz\r\n\" id=\"DejaVuSans-116\"/>\r\n      <path d=\"M 9.421875 54.6875 \r\nL 18.40625 54.6875 \r\nL 18.40625 0 \r\nL 9.421875 0 \r\nz\r\nM 9.421875 75.984375 \r\nL 18.40625 75.984375 \r\nL 18.40625 64.59375 \r\nL 9.421875 64.59375 \r\nz\r\n\" id=\"DejaVuSans-105\"/>\r\n      <path d=\"M 30.609375 48.390625 \r\nQ 23.390625 48.390625 19.1875 42.75 \r\nQ 14.984375 37.109375 14.984375 27.296875 \r\nQ 14.984375 17.484375 19.15625 11.84375 \r\nQ 23.34375 6.203125 30.609375 6.203125 \r\nQ 37.796875 6.203125 41.984375 11.859375 \r\nQ 46.1875 17.53125 46.1875 27.296875 \r\nQ 46.1875 37.015625 41.984375 42.703125 \r\nQ 37.796875 48.390625 30.609375 48.390625 \r\nz\r\nM 30.609375 56 \r\nQ 42.328125 56 49.015625 48.375 \r\nQ 55.71875 40.765625 55.71875 27.296875 \r\nQ 55.71875 13.875 49.015625 6.21875 \r\nQ 42.328125 -1.421875 30.609375 -1.421875 \r\nQ 18.84375 -1.421875 12.171875 6.21875 \r\nQ 5.515625 13.875 5.515625 27.296875 \r\nQ 5.515625 40.765625 12.171875 48.375 \r\nQ 18.84375 56 30.609375 56 \r\nz\r\n\" id=\"DejaVuSans-111\"/>\r\n     </defs>\r\n     <g transform=\"translate(184.777734 256.715781)scale(0.15 -0.15)\">\r\n      <use xlink:href=\"#DejaVuSans-103\"/>\r\n      <use x=\"63.476562\" xlink:href=\"#DejaVuSans-101\"/>\r\n      <use x=\"125\" xlink:href=\"#DejaVuSans-110\"/>\r\n      <use x=\"188.378906\" xlink:href=\"#DejaVuSans-101\"/>\r\n      <use x=\"249.902344\" xlink:href=\"#DejaVuSans-114\"/>\r\n      <use x=\"291.015625\" xlink:href=\"#DejaVuSans-97\"/>\r\n      <use x=\"352.294922\" xlink:href=\"#DejaVuSans-116\"/>\r\n      <use x=\"391.503906\" xlink:href=\"#DejaVuSans-105\"/>\r\n      <use x=\"419.287109\" xlink:href=\"#DejaVuSans-111\"/>\r\n      <use x=\"480.46875\" xlink:href=\"#DejaVuSans-110\"/>\r\n     </g>\r\n    </g>\r\n   </g>\r\n   <g id=\"matplotlib.axis_2\">\r\n    <g id=\"ytick_1\">\r\n     <g id=\"line2d_10\">\r\n      <defs>\r\n       <path d=\"M 0 0 \r\nL -3.5 0 \r\n\" id=\"m82f85835e9\" style=\"stroke:#000000;stroke-width:0.8;\"/>\r\n      </defs>\r\n      <g>\r\n       <use style=\"stroke:#000000;stroke-width:0.8;\" x=\"58.167188\" xlink:href=\"#m82f85835e9\" y=\"198.800717\"/>\r\n      </g>\r\n     </g>\r\n     <g id=\"text_11\">\r\n      <!-- 1200 -->\r\n      <g transform=\"translate(25.717188 202.599936)scale(0.1 -0.1)\">\r\n       <use xlink:href=\"#DejaVuSans-49\"/>\r\n       <use x=\"63.623047\" xlink:href=\"#DejaVuSans-50\"/>\r\n       <use x=\"127.246094\" xlink:href=\"#DejaVuSans-48\"/>\r\n       <use x=\"190.869141\" xlink:href=\"#DejaVuSans-48\"/>\r\n      </g>\r\n     </g>\r\n    </g>\r\n    <g id=\"ytick_2\">\r\n     <g id=\"line2d_11\">\r\n      <g>\r\n       <use style=\"stroke:#000000;stroke-width:0.8;\" x=\"58.167188\" xlink:href=\"#m82f85835e9\" y=\"154.479478\"/>\r\n      </g>\r\n     </g>\r\n     <g id=\"text_12\">\r\n      <!-- 1250 -->\r\n      <g transform=\"translate(25.717188 158.278697)scale(0.1 -0.1)\">\r\n       <use xlink:href=\"#DejaVuSans-49\"/>\r\n       <use x=\"63.623047\" xlink:href=\"#DejaVuSans-50\"/>\r\n       <use x=\"127.246094\" xlink:href=\"#DejaVuSans-53\"/>\r\n       <use x=\"190.869141\" xlink:href=\"#DejaVuSans-48\"/>\r\n      </g>\r\n     </g>\r\n    </g>\r\n    <g id=\"ytick_3\">\r\n     <g id=\"line2d_12\">\r\n      <g>\r\n       <use style=\"stroke:#000000;stroke-width:0.8;\" x=\"58.167188\" xlink:href=\"#m82f85835e9\" y=\"110.158239\"/>\r\n      </g>\r\n     </g>\r\n     <g id=\"text_13\">\r\n      <!-- 1300 -->\r\n      <defs>\r\n       <path d=\"M 40.578125 39.3125 \r\nQ 47.65625 37.796875 51.625 33 \r\nQ 55.609375 28.21875 55.609375 21.1875 \r\nQ 55.609375 10.40625 48.1875 4.484375 \r\nQ 40.765625 -1.421875 27.09375 -1.421875 \r\nQ 22.515625 -1.421875 17.65625 -0.515625 \r\nQ 12.796875 0.390625 7.625 2.203125 \r\nL 7.625 11.71875 \r\nQ 11.71875 9.328125 16.59375 8.109375 \r\nQ 21.484375 6.890625 26.8125 6.890625 \r\nQ 36.078125 6.890625 40.9375 10.546875 \r\nQ 45.796875 14.203125 45.796875 21.1875 \r\nQ 45.796875 27.640625 41.28125 31.265625 \r\nQ 36.765625 34.90625 28.71875 34.90625 \r\nL 20.21875 34.90625 \r\nL 20.21875 43.015625 \r\nL 29.109375 43.015625 \r\nQ 36.375 43.015625 40.234375 45.921875 \r\nQ 44.09375 48.828125 44.09375 54.296875 \r\nQ 44.09375 59.90625 40.109375 62.90625 \r\nQ 36.140625 65.921875 28.71875 65.921875 \r\nQ 24.65625 65.921875 20.015625 65.03125 \r\nQ 15.375 64.15625 9.8125 62.3125 \r\nL 9.8125 71.09375 \r\nQ 15.4375 72.65625 20.34375 73.4375 \r\nQ 25.25 74.21875 29.59375 74.21875 \r\nQ 40.828125 74.21875 47.359375 69.109375 \r\nQ 53.90625 64.015625 53.90625 55.328125 \r\nQ 53.90625 49.265625 50.4375 45.09375 \r\nQ 46.96875 40.921875 40.578125 39.3125 \r\nz\r\n\" id=\"DejaVuSans-51\"/>\r\n      </defs>\r\n      <g transform=\"translate(25.717188 113.957458)scale(0.1 -0.1)\">\r\n       <use xlink:href=\"#DejaVuSans-49\"/>\r\n       <use x=\"63.623047\" xlink:href=\"#DejaVuSans-51\"/>\r\n       <use x=\"127.246094\" xlink:href=\"#DejaVuSans-48\"/>\r\n       <use x=\"190.869141\" xlink:href=\"#DejaVuSans-48\"/>\r\n      </g>\r\n     </g>\r\n    </g>\r\n    <g id=\"ytick_4\">\r\n     <g id=\"line2d_13\">\r\n      <g>\r\n       <use style=\"stroke:#000000;stroke-width:0.8;\" x=\"58.167188\" xlink:href=\"#m82f85835e9\" y=\"65.837\"/>\r\n      </g>\r\n     </g>\r\n     <g id=\"text_14\">\r\n      <!-- 1350 -->\r\n      <g transform=\"translate(25.717188 69.636218)scale(0.1 -0.1)\">\r\n       <use xlink:href=\"#DejaVuSans-49\"/>\r\n       <use x=\"63.623047\" xlink:href=\"#DejaVuSans-51\"/>\r\n       <use x=\"127.246094\" xlink:href=\"#DejaVuSans-53\"/>\r\n       <use x=\"190.869141\" xlink:href=\"#DejaVuSans-48\"/>\r\n      </g>\r\n     </g>\r\n    </g>\r\n    <g id=\"ytick_5\">\r\n     <g id=\"line2d_14\">\r\n      <g>\r\n       <use style=\"stroke:#000000;stroke-width:0.8;\" x=\"58.167188\" xlink:href=\"#m82f85835e9\" y=\"21.51576\"/>\r\n      </g>\r\n     </g>\r\n     <g id=\"text_15\">\r\n      <!-- 1400 -->\r\n      <defs>\r\n       <path d=\"M 37.796875 64.3125 \r\nL 12.890625 25.390625 \r\nL 37.796875 25.390625 \r\nz\r\nM 35.203125 72.90625 \r\nL 47.609375 72.90625 \r\nL 47.609375 25.390625 \r\nL 58.015625 25.390625 \r\nL 58.015625 17.1875 \r\nL 47.609375 17.1875 \r\nL 47.609375 0 \r\nL 37.796875 0 \r\nL 37.796875 17.1875 \r\nL 4.890625 17.1875 \r\nL 4.890625 26.703125 \r\nz\r\n\" id=\"DejaVuSans-52\"/>\r\n      </defs>\r\n      <g transform=\"translate(25.717188 25.314979)scale(0.1 -0.1)\">\r\n       <use xlink:href=\"#DejaVuSans-49\"/>\r\n       <use x=\"63.623047\" xlink:href=\"#DejaVuSans-52\"/>\r\n       <use x=\"127.246094\" xlink:href=\"#DejaVuSans-48\"/>\r\n       <use x=\"190.869141\" xlink:href=\"#DejaVuSans-48\"/>\r\n      </g>\r\n     </g>\r\n    </g>\r\n    <g id=\"text_16\">\r\n     <!-- makespan -->\r\n     <defs>\r\n      <path d=\"M 52 44.1875 \r\nQ 55.375 50.25 60.0625 53.125 \r\nQ 64.75 56 71.09375 56 \r\nQ 79.640625 56 84.28125 50.015625 \r\nQ 88.921875 44.046875 88.921875 33.015625 \r\nL 88.921875 0 \r\nL 79.890625 0 \r\nL 79.890625 32.71875 \r\nQ 79.890625 40.578125 77.09375 44.375 \r\nQ 74.3125 48.1875 68.609375 48.1875 \r\nQ 61.625 48.1875 57.5625 43.546875 \r\nQ 53.515625 38.921875 53.515625 30.90625 \r\nL 53.515625 0 \r\nL 44.484375 0 \r\nL 44.484375 32.71875 \r\nQ 44.484375 40.625 41.703125 44.40625 \r\nQ 38.921875 48.1875 33.109375 48.1875 \r\nQ 26.21875 48.1875 22.15625 43.53125 \r\nQ 18.109375 38.875 18.109375 30.90625 \r\nL 18.109375 0 \r\nL 9.078125 0 \r\nL 9.078125 54.6875 \r\nL 18.109375 54.6875 \r\nL 18.109375 46.1875 \r\nQ 21.1875 51.21875 25.484375 53.609375 \r\nQ 29.78125 56 35.6875 56 \r\nQ 41.65625 56 45.828125 52.96875 \r\nQ 50 49.953125 52 44.1875 \r\nz\r\n\" id=\"DejaVuSans-109\"/>\r\n      <path d=\"M 9.078125 75.984375 \r\nL 18.109375 75.984375 \r\nL 18.109375 31.109375 \r\nL 44.921875 54.6875 \r\nL 56.390625 54.6875 \r\nL 27.390625 29.109375 \r\nL 57.625 0 \r\nL 45.90625 0 \r\nL 18.109375 26.703125 \r\nL 18.109375 0 \r\nL 9.078125 0 \r\nz\r\n\" id=\"DejaVuSans-107\"/>\r\n      <path d=\"M 44.28125 53.078125 \r\nL 44.28125 44.578125 \r\nQ 40.484375 46.53125 36.375 47.5 \r\nQ 32.28125 48.484375 27.875 48.484375 \r\nQ 21.1875 48.484375 17.84375 46.4375 \r\nQ 14.5 44.390625 14.5 40.28125 \r\nQ 14.5 37.15625 16.890625 35.375 \r\nQ 19.28125 33.59375 26.515625 31.984375 \r\nL 29.59375 31.296875 \r\nQ 39.15625 29.25 43.1875 25.515625 \r\nQ 47.21875 21.78125 47.21875 15.09375 \r\nQ 47.21875 7.46875 41.1875 3.015625 \r\nQ 35.15625 -1.421875 24.609375 -1.421875 \r\nQ 20.21875 -1.421875 15.453125 -0.5625 \r\nQ 10.6875 0.296875 5.421875 2 \r\nL 5.421875 11.28125 \r\nQ 10.40625 8.6875 15.234375 7.390625 \r\nQ 20.0625 6.109375 24.8125 6.109375 \r\nQ 31.15625 6.109375 34.5625 8.28125 \r\nQ 37.984375 10.453125 37.984375 14.40625 \r\nQ 37.984375 18.0625 35.515625 20.015625 \r\nQ 33.0625 21.96875 24.703125 23.78125 \r\nL 21.578125 24.515625 \r\nQ 13.234375 26.265625 9.515625 29.90625 \r\nQ 5.8125 33.546875 5.8125 39.890625 \r\nQ 5.8125 47.609375 11.28125 51.796875 \r\nQ 16.75 56 26.8125 56 \r\nQ 31.78125 56 36.171875 55.265625 \r\nQ 40.578125 54.546875 44.28125 53.078125 \r\nz\r\n\" id=\"DejaVuSans-115\"/>\r\n      <path d=\"M 18.109375 8.203125 \r\nL 18.109375 -20.796875 \r\nL 9.078125 -20.796875 \r\nL 9.078125 54.6875 \r\nL 18.109375 54.6875 \r\nL 18.109375 46.390625 \r\nQ 20.953125 51.265625 25.265625 53.625 \r\nQ 29.59375 56 35.59375 56 \r\nQ 45.5625 56 51.78125 48.09375 \r\nQ 58.015625 40.1875 58.015625 27.296875 \r\nQ 58.015625 14.40625 51.78125 6.484375 \r\nQ 45.5625 -1.421875 35.59375 -1.421875 \r\nQ 29.59375 -1.421875 25.265625 0.953125 \r\nQ 20.953125 3.328125 18.109375 8.203125 \r\nz\r\nM 48.6875 27.296875 \r\nQ 48.6875 37.203125 44.609375 42.84375 \r\nQ 40.53125 48.484375 33.40625 48.484375 \r\nQ 26.265625 48.484375 22.1875 42.84375 \r\nQ 18.109375 37.203125 18.109375 27.296875 \r\nQ 18.109375 17.390625 22.1875 11.75 \r\nQ 26.265625 6.109375 33.40625 6.109375 \r\nQ 40.53125 6.109375 44.609375 11.75 \r\nQ 48.6875 17.390625 48.6875 27.296875 \r\nz\r\n\" id=\"DejaVuSans-112\"/>\r\n     </defs>\r\n     <g transform=\"translate(18.597656 154.793438)rotate(-90)scale(0.15 -0.15)\">\r\n      <use xlink:href=\"#DejaVuSans-109\"/>\r\n      <use x=\"97.412109\" xlink:href=\"#DejaVuSans-97\"/>\r\n      <use x=\"158.691406\" xlink:href=\"#DejaVuSans-107\"/>\r\n      <use x=\"216.554688\" xlink:href=\"#DejaVuSans-101\"/>\r\n      <use x=\"278.078125\" xlink:href=\"#DejaVuSans-115\"/>\r\n      <use x=\"330.177734\" xlink:href=\"#DejaVuSans-112\"/>\r\n      <use x=\"393.654297\" xlink:href=\"#DejaVuSans-97\"/>\r\n      <use x=\"454.933594\" xlink:href=\"#DejaVuSans-110\"/>\r\n     </g>\r\n    </g>\r\n   </g>\r\n   <g id=\"line2d_15\">\r\n    <path clip-path=\"url(#p7c8ec90e45)\" d=\"M 73.385369 17.083636 \r\nL 74.146659 17.083636 \r\nL 74.298917 43.67638 \r\nL 77.03956 43.67638 \r\nL 77.191818 61.404876 \r\nL 78.105366 61.404876 \r\nL 78.257624 76.474097 \r\nL 79.627945 76.474097 \r\nL 79.780203 104.83969 \r\nL 88.306648 104.83969 \r\nL 88.458906 126.113885 \r\nL 89.372454 126.113885 \r\nL 89.524712 127.886735 \r\nL 98.507931 127.886735 \r\nL 98.660189 139.410257 \r\nL 107.491149 139.410257 \r\nL 107.643407 166.889425 \r\nL 135.202096 166.889425 \r\nL 135.354354 170.435124 \r\nL 135.506612 170.435124 \r\nL 135.65887 172.207974 \r\nL 136.724675 172.207974 \r\nL 136.876933 175.753673 \r\nL 137.029191 175.753673 \r\nL 137.181449 186.39077 \r\nL 140.683382 186.39077 \r\nL 140.83564 214.756364 \r\nL 377.749006 214.756364 \r\nL 377.749006 214.756364 \r\n\" style=\"fill:none;stroke:#0000ff;stroke-linecap:square;stroke-width:1.5;\"/>\r\n   </g>\r\n   <g id=\"patch_3\">\r\n    <path d=\"M 58.167188 224.64 \r\nL 58.167188 7.2 \r\n\" style=\"fill:none;stroke:#000000;stroke-linecap:square;stroke-linejoin:miter;stroke-width:0.8;\"/>\r\n   </g>\r\n   <g id=\"patch_4\">\r\n    <path d=\"M 392.967188 224.64 \r\nL 392.967188 7.2 \r\n\" style=\"fill:none;stroke:#000000;stroke-linecap:square;stroke-linejoin:miter;stroke-width:0.8;\"/>\r\n   </g>\r\n   <g id=\"patch_5\">\r\n    <path d=\"M 58.167188 224.64 \r\nL 392.967188 224.64 \r\n\" style=\"fill:none;stroke:#000000;stroke-linecap:square;stroke-linejoin:miter;stroke-width:0.8;\"/>\r\n   </g>\r\n   <g id=\"patch_6\">\r\n    <path d=\"M 58.167188 7.2 \r\nL 392.967188 7.2 \r\n\" style=\"fill:none;stroke:#000000;stroke-linecap:square;stroke-linejoin:miter;stroke-width:0.8;\"/>\r\n   </g>\r\n  </g>\r\n </g>\r\n <defs>\r\n  <clipPath id=\"p7c8ec90e45\">\r\n   <rect height=\"217.44\" width=\"334.8\" x=\"58.167188\" y=\"7.2\"/>\r\n  </clipPath>\r\n </defs>\r\n</svg>\r\n",
      "text/plain": "<Figure size 432x288 with 1 Axes>"
     },
     "metadata": {
      "needs_background": "light"
     },
     "output_type": "display_data"
    },
    {
     "data": {
      "application/vnd.plotly.v1+json": {
       "config": {
        "plotlyServerURL": "https://plot.ly"
       },
       "data": [
        {
         "fill": "toself",
         "fillcolor": "rgb(127, 127, 127)",
         "hoverinfo": "name",
         "legendgroup": "rgb(127, 127, 127)",
         "mode": "none",
         "name": "Job 7",
         "showlegend": true,
         "type": "scatter",
         "x": [
          "2020-02-01 0:06:38",
          "2020-02-01 0:07:15",
          "2020-02-01 0:07:15",
          "2020-02-01 0:06:38",
          "2020-02-01 0:06:38",
          "2020-02-01 0:02:11",
          "2020-02-01 0:02:57",
          "2020-02-01 0:02:57",
          "2020-02-01 0:02:11",
          "2020-02-01 0:02:11",
          "2020-02-01 0:09:04",
          "2020-02-01 0:09:17",
          "2020-02-01 0:09:17",
          "2020-02-01 0:09:04",
          "2020-02-01 0:09:04",
          "2020-02-01 0:07:15",
          "2020-02-01 0:08:16",
          "2020-02-01 0:08:16",
          "2020-02-01 0:07:15",
          "2020-02-01 0:07:15",
          "2020-02-01 0:18:19",
          "2020-02-01 0:19:14",
          "2020-02-01 0:19:14",
          "2020-02-01 0:18:19",
          "2020-02-01 0:18:19",
          "2020-02-01 0:12:22",
          "2020-02-01 0:12:43",
          "2020-02-01 0:12:43",
          "2020-02-01 0:12:22",
          "2020-02-01 0:12:22",
          "2020-02-01 0:11:00",
          "2020-02-01 0:11:32",
          "2020-02-01 0:11:32",
          "2020-02-01 0:11:00",
          "2020-02-01 0:11:00",
          "2020-02-01 0:17:17",
          "2020-02-01 0:17:47",
          "2020-02-01 0:17:47",
          "2020-02-01 0:17:17",
          "2020-02-01 0:17:17",
          "2020-02-01 0:15:32",
          "2020-02-01 0:17:01",
          "2020-02-01 0:17:01",
          "2020-02-01 0:15:32",
          "2020-02-01 0:15:32",
          "2020-02-01 0:12:43",
          "2020-02-01 0:13:15",
          "2020-02-01 0:13:15",
          "2020-02-01 0:12:43"
         ],
         "y": [
          8.8,
          8.8,
          9.2,
          9.2,
          null,
          7.8,
          7.8,
          8.2,
          8.2,
          null,
          6.8,
          6.8,
          7.2,
          7.2,
          null,
          5.8,
          5.8,
          6.2,
          6.2,
          null,
          4.8,
          4.8,
          5.2,
          5.2,
          null,
          3.8,
          3.8,
          4.2,
          4.2,
          null,
          2.8,
          2.8,
          3.2,
          3.2,
          null,
          1.8,
          1.8,
          2.2,
          2.2,
          null,
          0.8,
          0.8,
          1.2,
          1.2,
          null,
          -0.2,
          -0.2,
          0.2,
          0.2
         ]
        },
        {
         "fill": "toself",
         "fillcolor": "rgb(140, 86, 75)",
         "hoverinfo": "name",
         "legendgroup": "rgb(140, 86, 75)",
         "mode": "none",
         "name": "Job 5",
         "showlegend": true,
         "type": "scatter",
         "x": [
          "2020-02-01 0:00:45",
          "2020-02-01 0:00:51",
          "2020-02-01 0:00:51",
          "2020-02-01 0:00:45",
          "2020-02-01 0:00:45",
          "2020-02-01 0:05:31",
          "2020-02-01 0:05:53",
          "2020-02-01 0:05:53",
          "2020-02-01 0:05:31",
          "2020-02-01 0:05:31",
          "2020-02-01 0:00:31",
          "2020-02-01 0:00:45",
          "2020-02-01 0:00:45",
          "2020-02-01 0:00:31",
          "2020-02-01 0:00:31",
          "2020-02-01 0:10:37",
          "2020-02-01 0:11:03",
          "2020-02-01 0:11:03",
          "2020-02-01 0:10:37",
          "2020-02-01 0:10:37",
          "2020-02-01 0:12:28",
          "2020-02-01 0:13:37",
          "2020-02-01 0:13:37",
          "2020-02-01 0:12:28",
          "2020-02-01 0:12:28",
          "2020-02-01 0:09:24",
          "2020-02-01 0:10:25",
          "2020-02-01 0:10:25",
          "2020-02-01 0:09:24",
          "2020-02-01 0:09:24",
          "2020-02-01 0:17:38",
          "2020-02-01 0:18:31",
          "2020-02-01 0:18:31",
          "2020-02-01 0:17:38",
          "2020-02-01 0:17:38",
          "2020-02-01 0:15:32",
          "2020-02-01 0:16:21",
          "2020-02-01 0:16:21",
          "2020-02-01 0:15:32",
          "2020-02-01 0:15:32",
          "2020-02-01 0:15:11",
          "2020-02-01 0:15:32",
          "2020-02-01 0:15:32",
          "2020-02-01 0:15:11",
          "2020-02-01 0:15:11",
          "2020-02-01 0:16:26",
          "2020-02-01 0:17:38",
          "2020-02-01 0:17:38",
          "2020-02-01 0:16:26"
         ],
         "y": [
          8.8,
          8.8,
          9.2,
          9.2,
          null,
          7.8,
          7.8,
          8.2,
          8.2,
          null,
          6.8,
          6.8,
          7.2,
          7.2,
          null,
          5.8,
          5.8,
          6.2,
          6.2,
          null,
          4.8,
          4.8,
          5.2,
          5.2,
          null,
          3.8,
          3.8,
          4.2,
          4.2,
          null,
          2.8,
          2.8,
          3.2,
          3.2,
          null,
          1.8,
          1.8,
          2.2,
          2.2,
          null,
          0.8,
          0.8,
          1.2,
          1.2,
          null,
          -0.2,
          -0.2,
          0.2,
          0.2
         ]
        },
        {
         "fill": "toself",
         "fillcolor": "rgb(148, 103, 189)",
         "hoverinfo": "name",
         "legendgroup": "rgb(148, 103, 189)",
         "mode": "none",
         "name": "Job 4",
         "showlegend": true,
         "type": "scatter",
         "x": [
          "2020-02-01 0:05:14",
          "2020-02-01 0:06:25",
          "2020-02-01 0:06:25",
          "2020-02-01 0:05:14",
          "2020-02-01 0:05:14",
          "2020-02-01 0:00:00",
          "2020-02-01 0:01:21",
          "2020-02-01 0:01:21",
          "2020-02-01 0:00:00",
          "2020-02-01 0:00:00",
          "2020-02-01 0:03:39",
          "2020-02-01 0:05:14",
          "2020-02-01 0:05:14",
          "2020-02-01 0:03:39",
          "2020-02-01 0:03:39",
          "2020-02-01 0:13:08",
          "2020-02-01 0:14:46",
          "2020-02-01 0:14:46",
          "2020-02-01 0:13:08",
          "2020-02-01 0:13:08",
          "2020-02-01 0:06:25",
          "2020-02-01 0:08:04",
          "2020-02-01 0:08:04",
          "2020-02-01 0:06:25",
          "2020-02-01 0:06:25",
          "2020-02-01 0:15:41",
          "2020-02-01 0:16:24",
          "2020-02-01 0:16:24",
          "2020-02-01 0:15:41",
          "2020-02-01 0:15:41",
          "2020-02-01 0:08:04",
          "2020-02-01 0:08:13",
          "2020-02-01 0:08:13",
          "2020-02-01 0:08:04",
          "2020-02-01 0:08:04",
          "2020-02-01 0:11:24",
          "2020-02-01 0:12:49",
          "2020-02-01 0:12:49",
          "2020-02-01 0:11:24",
          "2020-02-01 0:11:24",
          "2020-02-01 0:09:24",
          "2020-02-01 0:10:16",
          "2020-02-01 0:10:16",
          "2020-02-01 0:09:24",
          "2020-02-01 0:09:24",
          "2020-02-01 0:15:19",
          "2020-02-01 0:15:41",
          "2020-02-01 0:15:41",
          "2020-02-01 0:15:19"
         ],
         "y": [
          8.8,
          8.8,
          9.2,
          9.2,
          null,
          7.8,
          7.8,
          8.2,
          8.2,
          null,
          6.8,
          6.8,
          7.2,
          7.2,
          null,
          5.8,
          5.8,
          6.2,
          6.2,
          null,
          4.8,
          4.8,
          5.2,
          5.2,
          null,
          3.8,
          3.8,
          4.2,
          4.2,
          null,
          2.8,
          2.8,
          3.2,
          3.2,
          null,
          1.8,
          1.8,
          2.2,
          2.2,
          null,
          0.8,
          0.8,
          1.2,
          1.2,
          null,
          -0.2,
          -0.2,
          0.2,
          0.2
         ]
        },
        {
         "fill": "toself",
         "fillcolor": "rgb(188, 189, 34)",
         "hoverinfo": "name",
         "legendgroup": "rgb(188, 189, 34)",
         "mode": "none",
         "name": "Job 8",
         "showlegend": true,
         "type": "scatter",
         "x": [
          "2020-02-01 0:02:50",
          "2020-02-01 0:04:16",
          "2020-02-01 0:04:16",
          "2020-02-01 0:02:50",
          "2020-02-01 0:02:50",
          "2020-02-01 0:07:24",
          "2020-02-01 0:08:10",
          "2020-02-01 0:08:10",
          "2020-02-01 0:07:24",
          "2020-02-01 0:07:24",
          "2020-02-01 0:00:00",
          "2020-02-01 0:00:31",
          "2020-02-01 0:00:31",
          "2020-02-01 0:00:00",
          "2020-02-01 0:00:00",
          "2020-02-01 0:18:23",
          "2020-02-01 0:19:42",
          "2020-02-01 0:19:42",
          "2020-02-01 0:18:23",
          "2020-02-01 0:18:23",
          "2020-02-01 0:11:50",
          "2020-02-01 0:12:22",
          "2020-02-01 0:12:22",
          "2020-02-01 0:11:50",
          "2020-02-01 0:11:50",
          "2020-02-01 0:08:10",
          "2020-02-01 0:09:24",
          "2020-02-01 0:09:24",
          "2020-02-01 0:08:10",
          "2020-02-01 0:08:10",
          "2020-02-01 0:12:22",
          "2020-02-01 0:13:50",
          "2020-02-01 0:13:50",
          "2020-02-01 0:12:22",
          "2020-02-01 0:12:22",
          "2020-02-01 0:17:47",
          "2020-02-01 0:18:23",
          "2020-02-01 0:18:23",
          "2020-02-01 0:17:47",
          "2020-02-01 0:17:47",
          "2020-02-01 0:13:50",
          "2020-02-01 0:14:09",
          "2020-02-01 0:14:09",
          "2020-02-01 0:13:50",
          "2020-02-01 0:13:50",
          "2020-02-01 0:14:31",
          "2020-02-01 0:15:19",
          "2020-02-01 0:15:19",
          "2020-02-01 0:14:31"
         ],
         "y": [
          8.8,
          8.8,
          9.2,
          9.2,
          null,
          7.8,
          7.8,
          8.2,
          8.2,
          null,
          6.8,
          6.8,
          7.2,
          7.2,
          null,
          5.8,
          5.8,
          6.2,
          6.2,
          null,
          4.8,
          4.8,
          5.2,
          5.2,
          null,
          3.8,
          3.8,
          4.2,
          4.2,
          null,
          2.8,
          2.8,
          3.2,
          3.2,
          null,
          1.8,
          1.8,
          2.2,
          2.2,
          null,
          0.8,
          0.8,
          1.2,
          1.2,
          null,
          -0.2,
          -0.2,
          0.2,
          0.2
         ]
        },
        {
         "fill": "toself",
         "fillcolor": "rgb(214, 39, 40)",
         "hoverinfo": "name",
         "legendgroup": "rgb(214, 39, 40)",
         "mode": "none",
         "name": "Job 3",
         "showlegend": true,
         "type": "scatter",
         "x": [
          "2020-02-01 0:07:24",
          "2020-02-01 0:08:49",
          "2020-02-01 0:08:49",
          "2020-02-01 0:07:24",
          "2020-02-01 0:07:24",
          "2020-02-01 0:05:53",
          "2020-02-01 0:07:24",
          "2020-02-01 0:07:24",
          "2020-02-01 0:05:53",
          "2020-02-01 0:05:53",
          "2020-02-01 0:09:28",
          "2020-02-01 0:10:42",
          "2020-02-01 0:10:42",
          "2020-02-01 0:09:28",
          "2020-02-01 0:09:28",
          "2020-02-01 0:08:49",
          "2020-02-01 0:09:28",
          "2020-02-01 0:09:28",
          "2020-02-01 0:08:49",
          "2020-02-01 0:08:49",
          "2020-02-01 0:17:46",
          "2020-02-01 0:18:19",
          "2020-02-01 0:18:19",
          "2020-02-01 0:17:46",
          "2020-02-01 0:17:46",
          "2020-02-01 0:12:12",
          "2020-02-01 0:12:22",
          "2020-02-01 0:12:22",
          "2020-02-01 0:12:12",
          "2020-02-01 0:12:12",
          "2020-02-01 0:13:50",
          "2020-02-01 0:15:19",
          "2020-02-01 0:15:19",
          "2020-02-01 0:13:50",
          "2020-02-01 0:13:50",
          "2020-02-01 0:12:49",
          "2020-02-01 0:12:59",
          "2020-02-01 0:12:59",
          "2020-02-01 0:12:49",
          "2020-02-01 0:12:49",
          "2020-02-01 0:10:42",
          "2020-02-01 0:12:12",
          "2020-02-01 0:12:12",
          "2020-02-01 0:10:42",
          "2020-02-01 0:10:42",
          "2020-02-01 0:15:41",
          "2020-02-01 0:16:26",
          "2020-02-01 0:16:26",
          "2020-02-01 0:15:41"
         ],
         "y": [
          8.8,
          8.8,
          9.2,
          9.2,
          null,
          7.8,
          7.8,
          8.2,
          8.2,
          null,
          6.8,
          6.8,
          7.2,
          7.2,
          null,
          5.8,
          5.8,
          6.2,
          6.2,
          null,
          4.8,
          4.8,
          5.2,
          5.2,
          null,
          3.8,
          3.8,
          4.2,
          4.2,
          null,
          2.8,
          2.8,
          3.2,
          3.2,
          null,
          1.8,
          1.8,
          2.2,
          2.2,
          null,
          0.8,
          0.8,
          1.2,
          1.2,
          null,
          -0.2,
          -0.2,
          0.2,
          0.2
         ]
        },
        {
         "fill": "toself",
         "fillcolor": "rgb(227, 119, 194)",
         "hoverinfo": "name",
         "legendgroup": "rgb(227, 119, 194)",
         "mode": "none",
         "name": "Job 6",
         "showlegend": true,
         "type": "scatter",
         "x": [
          "2020-02-01 0:08:49",
          "2020-02-01 0:09:36",
          "2020-02-01 0:09:36",
          "2020-02-01 0:08:49",
          "2020-02-01 0:08:49",
          "2020-02-01 0:02:09",
          "2020-02-01 0:02:11",
          "2020-02-01 0:02:11",
          "2020-02-01 0:02:09",
          "2020-02-01 0:02:09",
          "2020-02-01 0:00:45",
          "2020-02-01 0:02:09",
          "2020-02-01 0:02:09",
          "2020-02-01 0:00:45",
          "2020-02-01 0:00:45",
          "2020-02-01 0:03:03",
          "2020-02-01 0:04:38",
          "2020-02-01 0:04:38",
          "2020-02-01 0:03:03",
          "2020-02-01 0:03:03",
          "2020-02-01 0:12:22",
          "2020-02-01 0:12:28",
          "2020-02-01 0:12:28",
          "2020-02-01 0:12:22",
          "2020-02-01 0:12:22",
          "2020-02-01 0:02:11",
          "2020-02-01 0:03:03",
          "2020-02-01 0:03:03",
          "2020-02-01 0:02:11",
          "2020-02-01 0:02:11",
          "2020-02-01 0:09:55",
          "2020-02-01 0:11:00",
          "2020-02-01 0:11:00",
          "2020-02-01 0:09:55",
          "2020-02-01 0:09:55",
          "2020-02-01 0:12:59",
          "2020-02-01 0:13:24",
          "2020-02-01 0:13:24",
          "2020-02-01 0:12:59",
          "2020-02-01 0:12:59",
          "2020-02-01 0:04:38",
          "2020-02-01 0:05:26",
          "2020-02-01 0:05:26",
          "2020-02-01 0:04:38",
          "2020-02-01 0:04:38",
          "2020-02-01 0:05:26",
          "2020-02-01 0:06:38",
          "2020-02-01 0:06:38",
          "2020-02-01 0:05:26"
         ],
         "y": [
          8.8,
          8.8,
          9.2,
          9.2,
          null,
          7.8,
          7.8,
          8.2,
          8.2,
          null,
          6.8,
          6.8,
          7.2,
          7.2,
          null,
          5.8,
          5.8,
          6.2,
          6.2,
          null,
          4.8,
          4.8,
          5.2,
          5.2,
          null,
          3.8,
          3.8,
          4.2,
          4.2,
          null,
          2.8,
          2.8,
          3.2,
          3.2,
          null,
          1.8,
          1.8,
          2.2,
          2.2,
          null,
          0.8,
          0.8,
          1.2,
          1.2,
          null,
          -0.2,
          -0.2,
          0.2,
          0.2
         ]
        },
        {
         "fill": "toself",
         "fillcolor": "rgb(23, 190, 207)",
         "hoverinfo": "name",
         "legendgroup": "rgb(23, 190, 207)",
         "mode": "none",
         "name": "Job 9",
         "showlegend": true,
         "type": "scatter",
         "x": [
          "2020-02-01 0:01:34",
          "2020-02-01 0:02:50",
          "2020-02-01 0:02:50",
          "2020-02-01 0:01:34",
          "2020-02-01 0:01:34",
          "2020-02-01 0:02:57",
          "2020-02-01 0:04:06",
          "2020-02-01 0:04:06",
          "2020-02-01 0:02:57",
          "2020-02-01 0:02:57",
          "2020-02-01 0:07:39",
          "2020-02-01 0:09:04",
          "2020-02-01 0:09:04",
          "2020-02-01 0:07:39",
          "2020-02-01 0:07:39",
          "2020-02-01 0:04:38",
          "2020-02-01 0:05:54",
          "2020-02-01 0:05:54",
          "2020-02-01 0:04:38",
          "2020-02-01 0:04:38",
          "2020-02-01 0:11:24",
          "2020-02-01 0:11:50",
          "2020-02-01 0:11:50",
          "2020-02-01 0:11:24",
          "2020-02-01 0:11:24",
          "2020-02-01 0:05:54",
          "2020-02-01 0:06:45",
          "2020-02-01 0:06:45",
          "2020-02-01 0:05:54",
          "2020-02-01 0:05:54",
          "2020-02-01 0:09:15",
          "2020-02-01 0:09:55",
          "2020-02-01 0:09:55",
          "2020-02-01 0:09:15",
          "2020-02-01 0:09:15",
          "2020-02-01 0:09:55",
          "2020-02-01 0:11:24",
          "2020-02-01 0:11:24",
          "2020-02-01 0:09:55",
          "2020-02-01 0:09:55",
          "2020-02-01 0:12:12",
          "2020-02-01 0:13:26",
          "2020-02-01 0:13:26",
          "2020-02-01 0:12:12",
          "2020-02-01 0:12:12",
          "2020-02-01 0:09:04",
          "2020-02-01 0:09:15",
          "2020-02-01 0:09:15",
          "2020-02-01 0:09:04"
         ],
         "y": [
          8.8,
          8.8,
          9.2,
          9.2,
          null,
          7.8,
          7.8,
          8.2,
          8.2,
          null,
          6.8,
          6.8,
          7.2,
          7.2,
          null,
          5.8,
          5.8,
          6.2,
          6.2,
          null,
          4.8,
          4.8,
          5.2,
          5.2,
          null,
          3.8,
          3.8,
          4.2,
          4.2,
          null,
          2.8,
          2.8,
          3.2,
          3.2,
          null,
          1.8,
          1.8,
          2.2,
          2.2,
          null,
          0.8,
          0.8,
          1.2,
          1.2,
          null,
          -0.2,
          -0.2,
          0.2,
          0.2
         ]
        },
        {
         "fill": "toself",
         "fillcolor": "rgb(255, 127, 14)",
         "hoverinfo": "name",
         "legendgroup": "rgb(255, 127, 14)",
         "mode": "none",
         "name": "Job 10",
         "showlegend": true,
         "type": "scatter",
         "x": [
          "2020-02-01 0:06:25",
          "2020-02-01 0:06:38",
          "2020-02-01 0:06:38",
          "2020-02-01 0:06:25",
          "2020-02-01 0:06:25",
          "2020-02-01 0:04:06",
          "2020-02-01 0:05:31",
          "2020-02-01 0:05:31",
          "2020-02-01 0:04:06",
          "2020-02-01 0:04:06",
          "2020-02-01 0:06:38",
          "2020-02-01 0:07:39",
          "2020-02-01 0:07:39",
          "2020-02-01 0:06:38",
          "2020-02-01 0:06:38",
          "2020-02-01 0:15:24",
          "2020-02-01 0:16:16",
          "2020-02-01 0:16:16",
          "2020-02-01 0:15:24",
          "2020-02-01 0:15:24",
          "2020-02-01 0:16:16",
          "2020-02-01 0:17:46",
          "2020-02-01 0:17:46",
          "2020-02-01 0:16:16",
          "2020-02-01 0:16:16",
          "2020-02-01 0:14:37",
          "2020-02-01 0:15:24",
          "2020-02-01 0:15:24",
          "2020-02-01 0:14:37",
          "2020-02-01 0:14:37",
          "2020-02-01 0:08:13",
          "2020-02-01 0:08:20",
          "2020-02-01 0:08:20",
          "2020-02-01 0:08:13",
          "2020-02-01 0:08:13",
          "2020-02-01 0:18:23",
          "2020-02-01 0:19:08",
          "2020-02-01 0:19:08",
          "2020-02-01 0:18:23",
          "2020-02-01 0:18:23",
          "2020-02-01 0:08:20",
          "2020-02-01 0:09:24",
          "2020-02-01 0:09:24",
          "2020-02-01 0:08:20",
          "2020-02-01 0:08:20",
          "2020-02-01 0:13:15",
          "2020-02-01 0:14:31",
          "2020-02-01 0:14:31",
          "2020-02-01 0:13:15"
         ],
         "y": [
          8.8,
          8.8,
          9.2,
          9.2,
          null,
          7.8,
          7.8,
          8.2,
          8.2,
          null,
          6.8,
          6.8,
          7.2,
          7.2,
          null,
          5.8,
          5.8,
          6.2,
          6.2,
          null,
          4.8,
          4.8,
          5.2,
          5.2,
          null,
          3.8,
          3.8,
          4.2,
          4.2,
          null,
          2.8,
          2.8,
          3.2,
          3.2,
          null,
          1.8,
          1.8,
          2.2,
          2.2,
          null,
          0.8,
          0.8,
          1.2,
          1.2,
          null,
          -0.2,
          -0.2,
          0.2,
          0.2
         ]
        },
        {
         "fill": "toself",
         "fillcolor": "rgb(31, 119, 180)",
         "hoverinfo": "name",
         "legendgroup": "rgb(31, 119, 180)",
         "mode": "none",
         "name": "Job 1",
         "showlegend": true,
         "type": "scatter",
         "x": [
          "2020-02-01 0:09:36",
          "2020-02-01 0:10:05",
          "2020-02-01 0:10:05",
          "2020-02-01 0:09:36",
          "2020-02-01 0:09:36",
          "2020-02-01 0:11:05",
          "2020-02-01 0:12:23",
          "2020-02-01 0:12:23",
          "2020-02-01 0:11:05",
          "2020-02-01 0:11:05",
          "2020-02-01 0:12:23",
          "2020-02-01 0:12:32",
          "2020-02-01 0:12:32",
          "2020-02-01 0:12:23",
          "2020-02-01 0:12:23",
          "2020-02-01 0:12:32",
          "2020-02-01 0:13:08",
          "2020-02-01 0:13:08",
          "2020-02-01 0:12:32",
          "2020-02-01 0:12:32",
          "2020-02-01 0:13:37",
          "2020-02-01 0:14:26",
          "2020-02-01 0:14:26",
          "2020-02-01 0:13:37",
          "2020-02-01 0:13:37",
          "2020-02-01 0:14:26",
          "2020-02-01 0:14:37",
          "2020-02-01 0:14:37",
          "2020-02-01 0:14:26",
          "2020-02-01 0:14:26",
          "2020-02-01 0:15:19",
          "2020-02-01 0:16:21",
          "2020-02-01 0:16:21",
          "2020-02-01 0:15:19",
          "2020-02-01 0:15:19",
          "2020-02-01 0:16:21",
          "2020-02-01 0:17:17",
          "2020-02-01 0:17:17",
          "2020-02-01 0:16:21",
          "2020-02-01 0:16:21",
          "2020-02-01 0:17:17",
          "2020-02-01 0:18:01",
          "2020-02-01 0:18:01",
          "2020-02-01 0:17:17",
          "2020-02-01 0:17:17",
          "2020-02-01 0:18:01",
          "2020-02-01 0:18:22",
          "2020-02-01 0:18:22",
          "2020-02-01 0:18:01"
         ],
         "y": [
          8.8,
          8.8,
          9.2,
          9.2,
          null,
          7.8,
          7.8,
          8.2,
          8.2,
          null,
          6.8,
          6.8,
          7.2,
          7.2,
          null,
          5.8,
          5.8,
          6.2,
          6.2,
          null,
          4.8,
          4.8,
          5.2,
          5.2,
          null,
          3.8,
          3.8,
          4.2,
          4.2,
          null,
          2.8,
          2.8,
          3.2,
          3.2,
          null,
          1.8,
          1.8,
          2.2,
          2.2,
          null,
          0.8,
          0.8,
          1.2,
          1.2,
          null,
          -0.2,
          -0.2,
          0.2,
          0.2
         ]
        },
        {
         "fill": "toself",
         "fillcolor": "rgb(44, 160, 44)",
         "hoverinfo": "name",
         "legendgroup": "rgb(44, 160, 44)",
         "mode": "none",
         "name": "Job 2",
         "showlegend": true,
         "type": "scatter",
         "x": [
          "2020-02-01 0:00:51",
          "2020-02-01 0:01:34",
          "2020-02-01 0:01:34",
          "2020-02-01 0:00:51",
          "2020-02-01 0:00:51",
          "2020-02-01 0:10:37",
          "2020-02-01 0:11:05",
          "2020-02-01 0:11:05",
          "2020-02-01 0:10:37",
          "2020-02-01 0:10:37",
          "2020-02-01 0:02:09",
          "2020-02-01 0:03:39",
          "2020-02-01 0:03:39",
          "2020-02-01 0:02:09",
          "2020-02-01 0:02:09",
          "2020-02-01 0:09:28",
          "2020-02-01 0:10:37",
          "2020-02-01 0:10:37",
          "2020-02-01 0:09:28",
          "2020-02-01 0:09:28",
          "2020-02-01 0:03:39",
          "2020-02-01 0:04:54",
          "2020-02-01 0:04:54",
          "2020-02-01 0:03:39",
          "2020-02-01 0:03:39",
          "2020-02-01 0:12:43",
          "2020-02-01 0:13:29",
          "2020-02-01 0:13:29",
          "2020-02-01 0:12:43",
          "2020-02-01 0:12:43",
          "2020-02-01 0:11:32",
          "2020-02-01 0:12:18",
          "2020-02-01 0:12:18",
          "2020-02-01 0:11:32",
          "2020-02-01 0:11:32",
          "2020-02-01 0:13:29",
          "2020-02-01 0:14:41",
          "2020-02-01 0:14:41",
          "2020-02-01 0:13:29",
          "2020-02-01 0:13:29",
          "2020-02-01 0:14:41",
          "2020-02-01 0:15:11",
          "2020-02-01 0:15:11",
          "2020-02-01 0:14:41",
          "2020-02-01 0:14:41",
          "2020-02-01 0:06:38",
          "2020-02-01 0:06:49",
          "2020-02-01 0:06:49",
          "2020-02-01 0:06:38"
         ],
         "y": [
          8.8,
          8.8,
          9.2,
          9.2,
          null,
          7.8,
          7.8,
          8.2,
          8.2,
          null,
          6.8,
          6.8,
          7.2,
          7.2,
          null,
          5.8,
          5.8,
          6.2,
          6.2,
          null,
          4.8,
          4.8,
          5.2,
          5.2,
          null,
          3.8,
          3.8,
          4.2,
          4.2,
          null,
          2.8,
          2.8,
          3.2,
          3.2,
          null,
          1.8,
          1.8,
          2.2,
          2.2,
          null,
          0.8,
          0.8,
          1.2,
          1.2,
          null,
          -0.2,
          -0.2,
          0.2,
          0.2
         ]
        },
        {
         "legendgroup": "rgb(127, 127, 127)",
         "marker": {
          "color": "rgb(127, 127, 127)",
          "opacity": 0,
          "size": 1
         },
         "mode": "markers",
         "name": "",
         "showlegend": false,
         "text": [
          null,
          null,
          null,
          null,
          null,
          null,
          null,
          null,
          null,
          null,
          null,
          null,
          null,
          null,
          null,
          null,
          null,
          null,
          null,
          null
         ],
         "type": "scatter",
         "x": [
          "2020-02-01 0:06:38",
          "2020-02-01 0:07:15",
          "2020-02-01 0:02:11",
          "2020-02-01 0:02:57",
          "2020-02-01 0:09:04",
          "2020-02-01 0:09:17",
          "2020-02-01 0:07:15",
          "2020-02-01 0:08:16",
          "2020-02-01 0:18:19",
          "2020-02-01 0:19:14",
          "2020-02-01 0:12:22",
          "2020-02-01 0:12:43",
          "2020-02-01 0:11:00",
          "2020-02-01 0:11:32",
          "2020-02-01 0:17:17",
          "2020-02-01 0:17:47",
          "2020-02-01 0:15:32",
          "2020-02-01 0:17:01",
          "2020-02-01 0:12:43",
          "2020-02-01 0:13:15"
         ],
         "y": [
          9,
          9,
          8,
          8,
          7,
          7,
          6,
          6,
          5,
          5,
          4,
          4,
          3,
          3,
          2,
          2,
          1,
          1,
          0,
          0
         ]
        },
        {
         "legendgroup": "rgb(140, 86, 75)",
         "marker": {
          "color": "rgb(140, 86, 75)",
          "opacity": 0,
          "size": 1
         },
         "mode": "markers",
         "name": "",
         "showlegend": false,
         "text": [
          null,
          null,
          null,
          null,
          null,
          null,
          null,
          null,
          null,
          null,
          null,
          null,
          null,
          null,
          null,
          null,
          null,
          null,
          null,
          null
         ],
         "type": "scatter",
         "x": [
          "2020-02-01 0:00:45",
          "2020-02-01 0:00:51",
          "2020-02-01 0:05:31",
          "2020-02-01 0:05:53",
          "2020-02-01 0:00:31",
          "2020-02-01 0:00:45",
          "2020-02-01 0:10:37",
          "2020-02-01 0:11:03",
          "2020-02-01 0:12:28",
          "2020-02-01 0:13:37",
          "2020-02-01 0:09:24",
          "2020-02-01 0:10:25",
          "2020-02-01 0:17:38",
          "2020-02-01 0:18:31",
          "2020-02-01 0:15:32",
          "2020-02-01 0:16:21",
          "2020-02-01 0:15:11",
          "2020-02-01 0:15:32",
          "2020-02-01 0:16:26",
          "2020-02-01 0:17:38"
         ],
         "y": [
          9,
          9,
          8,
          8,
          7,
          7,
          6,
          6,
          5,
          5,
          4,
          4,
          3,
          3,
          2,
          2,
          1,
          1,
          0,
          0
         ]
        },
        {
         "legendgroup": "rgb(148, 103, 189)",
         "marker": {
          "color": "rgb(148, 103, 189)",
          "opacity": 0,
          "size": 1
         },
         "mode": "markers",
         "name": "",
         "showlegend": false,
         "text": [
          null,
          null,
          null,
          null,
          null,
          null,
          null,
          null,
          null,
          null,
          null,
          null,
          null,
          null,
          null,
          null,
          null,
          null,
          null,
          null
         ],
         "type": "scatter",
         "x": [
          "2020-02-01 0:05:14",
          "2020-02-01 0:06:25",
          "2020-02-01 0:00:00",
          "2020-02-01 0:01:21",
          "2020-02-01 0:03:39",
          "2020-02-01 0:05:14",
          "2020-02-01 0:13:08",
          "2020-02-01 0:14:46",
          "2020-02-01 0:06:25",
          "2020-02-01 0:08:04",
          "2020-02-01 0:15:41",
          "2020-02-01 0:16:24",
          "2020-02-01 0:08:04",
          "2020-02-01 0:08:13",
          "2020-02-01 0:11:24",
          "2020-02-01 0:12:49",
          "2020-02-01 0:09:24",
          "2020-02-01 0:10:16",
          "2020-02-01 0:15:19",
          "2020-02-01 0:15:41"
         ],
         "y": [
          9,
          9,
          8,
          8,
          7,
          7,
          6,
          6,
          5,
          5,
          4,
          4,
          3,
          3,
          2,
          2,
          1,
          1,
          0,
          0
         ]
        },
        {
         "legendgroup": "rgb(188, 189, 34)",
         "marker": {
          "color": "rgb(188, 189, 34)",
          "opacity": 0,
          "size": 1
         },
         "mode": "markers",
         "name": "",
         "showlegend": false,
         "text": [
          null,
          null,
          null,
          null,
          null,
          null,
          null,
          null,
          null,
          null,
          null,
          null,
          null,
          null,
          null,
          null,
          null,
          null,
          null,
          null
         ],
         "type": "scatter",
         "x": [
          "2020-02-01 0:02:50",
          "2020-02-01 0:04:16",
          "2020-02-01 0:07:24",
          "2020-02-01 0:08:10",
          "2020-02-01 0:00:00",
          "2020-02-01 0:00:31",
          "2020-02-01 0:18:23",
          "2020-02-01 0:19:42",
          "2020-02-01 0:11:50",
          "2020-02-01 0:12:22",
          "2020-02-01 0:08:10",
          "2020-02-01 0:09:24",
          "2020-02-01 0:12:22",
          "2020-02-01 0:13:50",
          "2020-02-01 0:17:47",
          "2020-02-01 0:18:23",
          "2020-02-01 0:13:50",
          "2020-02-01 0:14:09",
          "2020-02-01 0:14:31",
          "2020-02-01 0:15:19"
         ],
         "y": [
          9,
          9,
          8,
          8,
          7,
          7,
          6,
          6,
          5,
          5,
          4,
          4,
          3,
          3,
          2,
          2,
          1,
          1,
          0,
          0
         ]
        },
        {
         "legendgroup": "rgb(214, 39, 40)",
         "marker": {
          "color": "rgb(214, 39, 40)",
          "opacity": 0,
          "size": 1
         },
         "mode": "markers",
         "name": "",
         "showlegend": false,
         "text": [
          null,
          null,
          null,
          null,
          null,
          null,
          null,
          null,
          null,
          null,
          null,
          null,
          null,
          null,
          null,
          null,
          null,
          null,
          null,
          null
         ],
         "type": "scatter",
         "x": [
          "2020-02-01 0:07:24",
          "2020-02-01 0:08:49",
          "2020-02-01 0:05:53",
          "2020-02-01 0:07:24",
          "2020-02-01 0:09:28",
          "2020-02-01 0:10:42",
          "2020-02-01 0:08:49",
          "2020-02-01 0:09:28",
          "2020-02-01 0:17:46",
          "2020-02-01 0:18:19",
          "2020-02-01 0:12:12",
          "2020-02-01 0:12:22",
          "2020-02-01 0:13:50",
          "2020-02-01 0:15:19",
          "2020-02-01 0:12:49",
          "2020-02-01 0:12:59",
          "2020-02-01 0:10:42",
          "2020-02-01 0:12:12",
          "2020-02-01 0:15:41",
          "2020-02-01 0:16:26"
         ],
         "y": [
          9,
          9,
          8,
          8,
          7,
          7,
          6,
          6,
          5,
          5,
          4,
          4,
          3,
          3,
          2,
          2,
          1,
          1,
          0,
          0
         ]
        },
        {
         "legendgroup": "rgb(227, 119, 194)",
         "marker": {
          "color": "rgb(227, 119, 194)",
          "opacity": 0,
          "size": 1
         },
         "mode": "markers",
         "name": "",
         "showlegend": false,
         "text": [
          null,
          null,
          null,
          null,
          null,
          null,
          null,
          null,
          null,
          null,
          null,
          null,
          null,
          null,
          null,
          null,
          null,
          null,
          null,
          null
         ],
         "type": "scatter",
         "x": [
          "2020-02-01 0:08:49",
          "2020-02-01 0:09:36",
          "2020-02-01 0:02:09",
          "2020-02-01 0:02:11",
          "2020-02-01 0:00:45",
          "2020-02-01 0:02:09",
          "2020-02-01 0:03:03",
          "2020-02-01 0:04:38",
          "2020-02-01 0:12:22",
          "2020-02-01 0:12:28",
          "2020-02-01 0:02:11",
          "2020-02-01 0:03:03",
          "2020-02-01 0:09:55",
          "2020-02-01 0:11:00",
          "2020-02-01 0:12:59",
          "2020-02-01 0:13:24",
          "2020-02-01 0:04:38",
          "2020-02-01 0:05:26",
          "2020-02-01 0:05:26",
          "2020-02-01 0:06:38"
         ],
         "y": [
          9,
          9,
          8,
          8,
          7,
          7,
          6,
          6,
          5,
          5,
          4,
          4,
          3,
          3,
          2,
          2,
          1,
          1,
          0,
          0
         ]
        },
        {
         "legendgroup": "rgb(23, 190, 207)",
         "marker": {
          "color": "rgb(23, 190, 207)",
          "opacity": 0,
          "size": 1
         },
         "mode": "markers",
         "name": "",
         "showlegend": false,
         "text": [
          null,
          null,
          null,
          null,
          null,
          null,
          null,
          null,
          null,
          null,
          null,
          null,
          null,
          null,
          null,
          null,
          null,
          null,
          null,
          null
         ],
         "type": "scatter",
         "x": [
          "2020-02-01 0:01:34",
          "2020-02-01 0:02:50",
          "2020-02-01 0:02:57",
          "2020-02-01 0:04:06",
          "2020-02-01 0:07:39",
          "2020-02-01 0:09:04",
          "2020-02-01 0:04:38",
          "2020-02-01 0:05:54",
          "2020-02-01 0:11:24",
          "2020-02-01 0:11:50",
          "2020-02-01 0:05:54",
          "2020-02-01 0:06:45",
          "2020-02-01 0:09:15",
          "2020-02-01 0:09:55",
          "2020-02-01 0:09:55",
          "2020-02-01 0:11:24",
          "2020-02-01 0:12:12",
          "2020-02-01 0:13:26",
          "2020-02-01 0:09:04",
          "2020-02-01 0:09:15"
         ],
         "y": [
          9,
          9,
          8,
          8,
          7,
          7,
          6,
          6,
          5,
          5,
          4,
          4,
          3,
          3,
          2,
          2,
          1,
          1,
          0,
          0
         ]
        },
        {
         "legendgroup": "rgb(255, 127, 14)",
         "marker": {
          "color": "rgb(255, 127, 14)",
          "opacity": 0,
          "size": 1
         },
         "mode": "markers",
         "name": "",
         "showlegend": false,
         "text": [
          null,
          null,
          null,
          null,
          null,
          null,
          null,
          null,
          null,
          null,
          null,
          null,
          null,
          null,
          null,
          null,
          null,
          null,
          null,
          null
         ],
         "type": "scatter",
         "x": [
          "2020-02-01 0:06:25",
          "2020-02-01 0:06:38",
          "2020-02-01 0:04:06",
          "2020-02-01 0:05:31",
          "2020-02-01 0:06:38",
          "2020-02-01 0:07:39",
          "2020-02-01 0:15:24",
          "2020-02-01 0:16:16",
          "2020-02-01 0:16:16",
          "2020-02-01 0:17:46",
          "2020-02-01 0:14:37",
          "2020-02-01 0:15:24",
          "2020-02-01 0:08:13",
          "2020-02-01 0:08:20",
          "2020-02-01 0:18:23",
          "2020-02-01 0:19:08",
          "2020-02-01 0:08:20",
          "2020-02-01 0:09:24",
          "2020-02-01 0:13:15",
          "2020-02-01 0:14:31"
         ],
         "y": [
          9,
          9,
          8,
          8,
          7,
          7,
          6,
          6,
          5,
          5,
          4,
          4,
          3,
          3,
          2,
          2,
          1,
          1,
          0,
          0
         ]
        },
        {
         "legendgroup": "rgb(31, 119, 180)",
         "marker": {
          "color": "rgb(31, 119, 180)",
          "opacity": 0,
          "size": 1
         },
         "mode": "markers",
         "name": "",
         "showlegend": false,
         "text": [
          null,
          null,
          null,
          null,
          null,
          null,
          null,
          null,
          null,
          null,
          null,
          null,
          null,
          null,
          null,
          null,
          null,
          null,
          null,
          null
         ],
         "type": "scatter",
         "x": [
          "2020-02-01 0:09:36",
          "2020-02-01 0:10:05",
          "2020-02-01 0:11:05",
          "2020-02-01 0:12:23",
          "2020-02-01 0:12:23",
          "2020-02-01 0:12:32",
          "2020-02-01 0:12:32",
          "2020-02-01 0:13:08",
          "2020-02-01 0:13:37",
          "2020-02-01 0:14:26",
          "2020-02-01 0:14:26",
          "2020-02-01 0:14:37",
          "2020-02-01 0:15:19",
          "2020-02-01 0:16:21",
          "2020-02-01 0:16:21",
          "2020-02-01 0:17:17",
          "2020-02-01 0:17:17",
          "2020-02-01 0:18:01",
          "2020-02-01 0:18:01",
          "2020-02-01 0:18:22"
         ],
         "y": [
          9,
          9,
          8,
          8,
          7,
          7,
          6,
          6,
          5,
          5,
          4,
          4,
          3,
          3,
          2,
          2,
          1,
          1,
          0,
          0
         ]
        },
        {
         "legendgroup": "rgb(44, 160, 44)",
         "marker": {
          "color": "rgb(44, 160, 44)",
          "opacity": 0,
          "size": 1
         },
         "mode": "markers",
         "name": "",
         "showlegend": false,
         "text": [
          null,
          null,
          null,
          null,
          null,
          null,
          null,
          null,
          null,
          null,
          null,
          null,
          null,
          null,
          null,
          null,
          null,
          null,
          null,
          null
         ],
         "type": "scatter",
         "x": [
          "2020-02-01 0:00:51",
          "2020-02-01 0:01:34",
          "2020-02-01 0:10:37",
          "2020-02-01 0:11:05",
          "2020-02-01 0:02:09",
          "2020-02-01 0:03:39",
          "2020-02-01 0:09:28",
          "2020-02-01 0:10:37",
          "2020-02-01 0:03:39",
          "2020-02-01 0:04:54",
          "2020-02-01 0:12:43",
          "2020-02-01 0:13:29",
          "2020-02-01 0:11:32",
          "2020-02-01 0:12:18",
          "2020-02-01 0:13:29",
          "2020-02-01 0:14:41",
          "2020-02-01 0:14:41",
          "2020-02-01 0:15:11",
          "2020-02-01 0:06:38",
          "2020-02-01 0:06:49"
         ],
         "y": [
          9,
          9,
          8,
          8,
          7,
          7,
          6,
          6,
          5,
          5,
          4,
          4,
          3,
          3,
          2,
          2,
          1,
          1,
          0,
          0
         ]
        }
       ],
       "layout": {
        "height": 600,
        "hovermode": "closest",
        "showlegend": true,
        "template": {
         "data": {
          "bar": [
           {
            "error_x": {
             "color": "#2a3f5f"
            },
            "error_y": {
             "color": "#2a3f5f"
            },
            "marker": {
             "line": {
              "color": "#E5ECF6",
              "width": 0.5
             }
            },
            "type": "bar"
           }
          ],
          "barpolar": [
           {
            "marker": {
             "line": {
              "color": "#E5ECF6",
              "width": 0.5
             }
            },
            "type": "barpolar"
           }
          ],
          "carpet": [
           {
            "aaxis": {
             "endlinecolor": "#2a3f5f",
             "gridcolor": "white",
             "linecolor": "white",
             "minorgridcolor": "white",
             "startlinecolor": "#2a3f5f"
            },
            "baxis": {
             "endlinecolor": "#2a3f5f",
             "gridcolor": "white",
             "linecolor": "white",
             "minorgridcolor": "white",
             "startlinecolor": "#2a3f5f"
            },
            "type": "carpet"
           }
          ],
          "choropleth": [
           {
            "colorbar": {
             "outlinewidth": 0,
             "ticks": ""
            },
            "type": "choropleth"
           }
          ],
          "contour": [
           {
            "colorbar": {
             "outlinewidth": 0,
             "ticks": ""
            },
            "colorscale": [
             [
              0,
              "#0d0887"
             ],
             [
              0.1111111111111111,
              "#46039f"
             ],
             [
              0.2222222222222222,
              "#7201a8"
             ],
             [
              0.3333333333333333,
              "#9c179e"
             ],
             [
              0.4444444444444444,
              "#bd3786"
             ],
             [
              0.5555555555555556,
              "#d8576b"
             ],
             [
              0.6666666666666666,
              "#ed7953"
             ],
             [
              0.7777777777777778,
              "#fb9f3a"
             ],
             [
              0.8888888888888888,
              "#fdca26"
             ],
             [
              1,
              "#f0f921"
             ]
            ],
            "type": "contour"
           }
          ],
          "contourcarpet": [
           {
            "colorbar": {
             "outlinewidth": 0,
             "ticks": ""
            },
            "type": "contourcarpet"
           }
          ],
          "heatmap": [
           {
            "colorbar": {
             "outlinewidth": 0,
             "ticks": ""
            },
            "colorscale": [
             [
              0,
              "#0d0887"
             ],
             [
              0.1111111111111111,
              "#46039f"
             ],
             [
              0.2222222222222222,
              "#7201a8"
             ],
             [
              0.3333333333333333,
              "#9c179e"
             ],
             [
              0.4444444444444444,
              "#bd3786"
             ],
             [
              0.5555555555555556,
              "#d8576b"
             ],
             [
              0.6666666666666666,
              "#ed7953"
             ],
             [
              0.7777777777777778,
              "#fb9f3a"
             ],
             [
              0.8888888888888888,
              "#fdca26"
             ],
             [
              1,
              "#f0f921"
             ]
            ],
            "type": "heatmap"
           }
          ],
          "heatmapgl": [
           {
            "colorbar": {
             "outlinewidth": 0,
             "ticks": ""
            },
            "colorscale": [
             [
              0,
              "#0d0887"
             ],
             [
              0.1111111111111111,
              "#46039f"
             ],
             [
              0.2222222222222222,
              "#7201a8"
             ],
             [
              0.3333333333333333,
              "#9c179e"
             ],
             [
              0.4444444444444444,
              "#bd3786"
             ],
             [
              0.5555555555555556,
              "#d8576b"
             ],
             [
              0.6666666666666666,
              "#ed7953"
             ],
             [
              0.7777777777777778,
              "#fb9f3a"
             ],
             [
              0.8888888888888888,
              "#fdca26"
             ],
             [
              1,
              "#f0f921"
             ]
            ],
            "type": "heatmapgl"
           }
          ],
          "histogram": [
           {
            "marker": {
             "colorbar": {
              "outlinewidth": 0,
              "ticks": ""
             }
            },
            "type": "histogram"
           }
          ],
          "histogram2d": [
           {
            "colorbar": {
             "outlinewidth": 0,
             "ticks": ""
            },
            "colorscale": [
             [
              0,
              "#0d0887"
             ],
             [
              0.1111111111111111,
              "#46039f"
             ],
             [
              0.2222222222222222,
              "#7201a8"
             ],
             [
              0.3333333333333333,
              "#9c179e"
             ],
             [
              0.4444444444444444,
              "#bd3786"
             ],
             [
              0.5555555555555556,
              "#d8576b"
             ],
             [
              0.6666666666666666,
              "#ed7953"
             ],
             [
              0.7777777777777778,
              "#fb9f3a"
             ],
             [
              0.8888888888888888,
              "#fdca26"
             ],
             [
              1,
              "#f0f921"
             ]
            ],
            "type": "histogram2d"
           }
          ],
          "histogram2dcontour": [
           {
            "colorbar": {
             "outlinewidth": 0,
             "ticks": ""
            },
            "colorscale": [
             [
              0,
              "#0d0887"
             ],
             [
              0.1111111111111111,
              "#46039f"
             ],
             [
              0.2222222222222222,
              "#7201a8"
             ],
             [
              0.3333333333333333,
              "#9c179e"
             ],
             [
              0.4444444444444444,
              "#bd3786"
             ],
             [
              0.5555555555555556,
              "#d8576b"
             ],
             [
              0.6666666666666666,
              "#ed7953"
             ],
             [
              0.7777777777777778,
              "#fb9f3a"
             ],
             [
              0.8888888888888888,
              "#fdca26"
             ],
             [
              1,
              "#f0f921"
             ]
            ],
            "type": "histogram2dcontour"
           }
          ],
          "mesh3d": [
           {
            "colorbar": {
             "outlinewidth": 0,
             "ticks": ""
            },
            "type": "mesh3d"
           }
          ],
          "parcoords": [
           {
            "line": {
             "colorbar": {
              "outlinewidth": 0,
              "ticks": ""
             }
            },
            "type": "parcoords"
           }
          ],
          "pie": [
           {
            "automargin": true,
            "type": "pie"
           }
          ],
          "scatter": [
           {
            "marker": {
             "colorbar": {
              "outlinewidth": 0,
              "ticks": ""
             }
            },
            "type": "scatter"
           }
          ],
          "scatter3d": [
           {
            "line": {
             "colorbar": {
              "outlinewidth": 0,
              "ticks": ""
             }
            },
            "marker": {
             "colorbar": {
              "outlinewidth": 0,
              "ticks": ""
             }
            },
            "type": "scatter3d"
           }
          ],
          "scattercarpet": [
           {
            "marker": {
             "colorbar": {
              "outlinewidth": 0,
              "ticks": ""
             }
            },
            "type": "scattercarpet"
           }
          ],
          "scattergeo": [
           {
            "marker": {
             "colorbar": {
              "outlinewidth": 0,
              "ticks": ""
             }
            },
            "type": "scattergeo"
           }
          ],
          "scattergl": [
           {
            "marker": {
             "colorbar": {
              "outlinewidth": 0,
              "ticks": ""
             }
            },
            "type": "scattergl"
           }
          ],
          "scattermapbox": [
           {
            "marker": {
             "colorbar": {
              "outlinewidth": 0,
              "ticks": ""
             }
            },
            "type": "scattermapbox"
           }
          ],
          "scatterpolar": [
           {
            "marker": {
             "colorbar": {
              "outlinewidth": 0,
              "ticks": ""
             }
            },
            "type": "scatterpolar"
           }
          ],
          "scatterpolargl": [
           {
            "marker": {
             "colorbar": {
              "outlinewidth": 0,
              "ticks": ""
             }
            },
            "type": "scatterpolargl"
           }
          ],
          "scatterternary": [
           {
            "marker": {
             "colorbar": {
              "outlinewidth": 0,
              "ticks": ""
             }
            },
            "type": "scatterternary"
           }
          ],
          "surface": [
           {
            "colorbar": {
             "outlinewidth": 0,
             "ticks": ""
            },
            "colorscale": [
             [
              0,
              "#0d0887"
             ],
             [
              0.1111111111111111,
              "#46039f"
             ],
             [
              0.2222222222222222,
              "#7201a8"
             ],
             [
              0.3333333333333333,
              "#9c179e"
             ],
             [
              0.4444444444444444,
              "#bd3786"
             ],
             [
              0.5555555555555556,
              "#d8576b"
             ],
             [
              0.6666666666666666,
              "#ed7953"
             ],
             [
              0.7777777777777778,
              "#fb9f3a"
             ],
             [
              0.8888888888888888,
              "#fdca26"
             ],
             [
              1,
              "#f0f921"
             ]
            ],
            "type": "surface"
           }
          ],
          "table": [
           {
            "cells": {
             "fill": {
              "color": "#EBF0F8"
             },
             "line": {
              "color": "white"
             }
            },
            "header": {
             "fill": {
              "color": "#C8D4E3"
             },
             "line": {
              "color": "white"
             }
            },
            "type": "table"
           }
          ]
         },
         "layout": {
          "annotationdefaults": {
           "arrowcolor": "#2a3f5f",
           "arrowhead": 0,
           "arrowwidth": 1
          },
          "coloraxis": {
           "colorbar": {
            "outlinewidth": 0,
            "ticks": ""
           }
          },
          "colorscale": {
           "diverging": [
            [
             0,
             "#8e0152"
            ],
            [
             0.1,
             "#c51b7d"
            ],
            [
             0.2,
             "#de77ae"
            ],
            [
             0.3,
             "#f1b6da"
            ],
            [
             0.4,
             "#fde0ef"
            ],
            [
             0.5,
             "#f7f7f7"
            ],
            [
             0.6,
             "#e6f5d0"
            ],
            [
             0.7,
             "#b8e186"
            ],
            [
             0.8,
             "#7fbc41"
            ],
            [
             0.9,
             "#4d9221"
            ],
            [
             1,
             "#276419"
            ]
           ],
           "sequential": [
            [
             0,
             "#0d0887"
            ],
            [
             0.1111111111111111,
             "#46039f"
            ],
            [
             0.2222222222222222,
             "#7201a8"
            ],
            [
             0.3333333333333333,
             "#9c179e"
            ],
            [
             0.4444444444444444,
             "#bd3786"
            ],
            [
             0.5555555555555556,
             "#d8576b"
            ],
            [
             0.6666666666666666,
             "#ed7953"
            ],
            [
             0.7777777777777778,
             "#fb9f3a"
            ],
            [
             0.8888888888888888,
             "#fdca26"
            ],
            [
             1,
             "#f0f921"
            ]
           ],
           "sequentialminus": [
            [
             0,
             "#0d0887"
            ],
            [
             0.1111111111111111,
             "#46039f"
            ],
            [
             0.2222222222222222,
             "#7201a8"
            ],
            [
             0.3333333333333333,
             "#9c179e"
            ],
            [
             0.4444444444444444,
             "#bd3786"
            ],
            [
             0.5555555555555556,
             "#d8576b"
            ],
            [
             0.6666666666666666,
             "#ed7953"
            ],
            [
             0.7777777777777778,
             "#fb9f3a"
            ],
            [
             0.8888888888888888,
             "#fdca26"
            ],
            [
             1,
             "#f0f921"
            ]
           ]
          },
          "colorway": [
           "#636efa",
           "#EF553B",
           "#00cc96",
           "#ab63fa",
           "#FFA15A",
           "#19d3f3",
           "#FF6692",
           "#B6E880",
           "#FF97FF",
           "#FECB52"
          ],
          "font": {
           "color": "#2a3f5f"
          },
          "geo": {
           "bgcolor": "white",
           "lakecolor": "white",
           "landcolor": "#E5ECF6",
           "showlakes": true,
           "showland": true,
           "subunitcolor": "white"
          },
          "hoverlabel": {
           "align": "left"
          },
          "hovermode": "closest",
          "mapbox": {
           "style": "light"
          },
          "paper_bgcolor": "white",
          "plot_bgcolor": "#E5ECF6",
          "polar": {
           "angularaxis": {
            "gridcolor": "white",
            "linecolor": "white",
            "ticks": ""
           },
           "bgcolor": "#E5ECF6",
           "radialaxis": {
            "gridcolor": "white",
            "linecolor": "white",
            "ticks": ""
           }
          },
          "scene": {
           "xaxis": {
            "backgroundcolor": "#E5ECF6",
            "gridcolor": "white",
            "gridwidth": 2,
            "linecolor": "white",
            "showbackground": true,
            "ticks": "",
            "zerolinecolor": "white"
           },
           "yaxis": {
            "backgroundcolor": "#E5ECF6",
            "gridcolor": "white",
            "gridwidth": 2,
            "linecolor": "white",
            "showbackground": true,
            "ticks": "",
            "zerolinecolor": "white"
           },
           "zaxis": {
            "backgroundcolor": "#E5ECF6",
            "gridcolor": "white",
            "gridwidth": 2,
            "linecolor": "white",
            "showbackground": true,
            "ticks": "",
            "zerolinecolor": "white"
           }
          },
          "shapedefaults": {
           "line": {
            "color": "#2a3f5f"
           }
          },
          "ternary": {
           "aaxis": {
            "gridcolor": "white",
            "linecolor": "white",
            "ticks": ""
           },
           "baxis": {
            "gridcolor": "white",
            "linecolor": "white",
            "ticks": ""
           },
           "bgcolor": "#E5ECF6",
           "caxis": {
            "gridcolor": "white",
            "linecolor": "white",
            "ticks": ""
           }
          },
          "title": {
           "x": 0.05
          },
          "xaxis": {
           "automargin": true,
           "gridcolor": "white",
           "linecolor": "white",
           "ticks": "",
           "title": {
            "standoff": 15
           },
           "zerolinecolor": "white",
           "zerolinewidth": 2
          },
          "yaxis": {
           "automargin": true,
           "gridcolor": "white",
           "linecolor": "white",
           "ticks": "",
           "title": {
            "standoff": 15
           },
           "zerolinecolor": "white",
           "zerolinewidth": 2
          }
         }
        },
        "title": {
         "text": "Job shop Schedule"
        },
        "xaxis": {
         "rangeselector": {
          "buttons": [
           {
            "count": 7,
            "label": "1w",
            "step": "day",
            "stepmode": "backward"
           },
           {
            "count": 1,
            "label": "1m",
            "step": "month",
            "stepmode": "backward"
           },
           {
            "count": 6,
            "label": "6m",
            "step": "month",
            "stepmode": "backward"
           },
           {
            "count": 1,
            "label": "YTD",
            "step": "year",
            "stepmode": "todate"
           },
           {
            "count": 1,
            "label": "1y",
            "step": "year",
            "stepmode": "backward"
           },
           {
            "step": "all"
           }
          ]
         },
         "showgrid": true,
         "type": "date",
         "zeroline": false
        },
        "yaxis": {
         "autorange": false,
         "range": [
          -1,
          11
         ],
         "showgrid": false,
         "ticktext": [
          "Machine 10",
          "Machine 9",
          "Machine 8",
          "Machine 7",
          "Machine 6",
          "Machine 5",
          "Machine 4",
          "Machine 3",
          "Machine 2",
          "Machine 1"
         ],
         "tickvals": [
          0,
          1,
          2,
          3,
          4,
          5,
          6,
          7,
          8,
          9
         ],
         "zeroline": false
        }
       }
      }
     },
     "metadata": {},
     "output_type": "display_data"
    }
   ],
   "source": [
    "\"\"\" Job_Shop_Schedule \"\"\"\n",
    "\n",
    "data = data_excel_json('data/JSP_dataset.xlsx')\n",
    "schedule = job_schedule(data_dict=data)\n"
   ]
  },
  {
   "cell_type": "code",
   "execution_count": null,
   "metadata": {},
   "outputs": [],
   "source": [
    "# JSON to draw gantt chart \n",
    "schedule"
   ]
  },
  {
   "cell_type": "code",
   "execution_count": null,
   "metadata": {},
   "outputs": [],
   "source": []
  }
 ]
}